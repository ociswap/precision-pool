{
 "cells": [
  {
   "cell_type": "code",
   "execution_count": null,
   "metadata": {},
   "outputs": [],
   "source": [
    "from add_liquidity import *\n",
    "from constants import *\n",
    "\n",
    "from swap import *\n",
    "from pool import *\n",
    "\n",
    "logging.config.fileConfig('logging.ini')"
   ]
  },
  {
   "cell_type": "code",
   "execution_count": null,
   "metadata": {},
   "outputs": [],
   "source": [
    "TICK_LEFT_BOUND = -10000\n",
    "TICK_LEFT_MIDDLE_BOUND = 5000\n",
    "TICK_RIGHT_MIDDLE_BOUND = 10000\n",
    "TICK_RIGHT_BOUND = 15000\n",
    "\n",
    "PRICE_LEFT_BOUND = tick_to_price(TICK_LEFT_BOUND)                 # price ~ 0.3678, sqrt(1.0001^-10000) = 0.6065458221578347578405131291196676381010272902296962274902331629\n",
    "PRICE_LEFT_MIDDLE_BOUND = tick_to_price(TICK_LEFT_MIDDLE_BOUND)   # price ~ 1.6486, sqrt(1.0001^5000) = 1.2840093675402745166797149588385944304302866383038001267442213538\n",
    "PRICE_RIGHT_MIDDLE_BOUND = tick_to_price(TICK_RIGHT_MIDDLE_BOUND) # price ~ 2.7181, sqrt(1.0001^10000) = 1.648680055931175769628200045451048976844011249465030400193593239\n",
    "PRICE_RIGHT_BOUND = tick_to_price(TICK_RIGHT_BOUND)               # price ~ 4.4813, sqrt(1.0001^15000) = 2.1169206358924534159037443803110466073595471619988425247370153363\n",
    "\n",
    "PRICE_LESSER_LEFT_BOUND= Decimal(\"0.3\")\n",
    "PRICE_BETWEEN_LEFT_BOUNDS= Decimal(\"1.0001\")\n",
    "PRICE_BETWEEN_MIDDLE_BOUNDS= Decimal(2)\n",
    "PRICE_BETWEEN_RIGHT_BOUNDS= Decimal(3)\n",
    "PRICE_GREATER_RIGHT_BOUND= Decimal(5)\n",
    "\n",
    "\n",
    "ONE_LP = [(TICK_LEFT_BOUND, TICK_RIGHT_BOUND, Decimal(10), Decimal(10))]"
   ]
  },
  {
   "cell_type": "code",
   "execution_count": null,
   "metadata": {},
   "outputs": [],
   "source": [
    "# one lp not crossing tick\n",
    "swap_buy_success(Decimal(2), ONE_LP, Decimal(1))\n",
    "swap_sell_success(Decimal(2), ONE_LP, Decimal(1))"
   ]
  },
  {
   "cell_type": "code",
   "execution_count": null,
   "metadata": {},
   "outputs": [],
   "source": [
    "# one lp - consume full liquidity\n",
    "swap_buy_success(PRICE_LESSER_LEFT_BOUND, ONE_LP, Decimal(13))\n",
    "swap_sell_success(PRICE_GREATER_RIGHT_BOUND, ONE_LP, Decimal(13))"
   ]
  },
  {
   "cell_type": "code",
   "execution_count": null,
   "metadata": {},
   "outputs": [],
   "source": [
    "# one lp - price lesser left bound\n",
    "swap_buy_success(Decimal(\"0.3\"), ONE_LP, Decimal(1))\n",
    "swap_sell_success(Decimal(\"0.3\"), ONE_LP, Decimal(1))"
   ]
  },
  {
   "cell_type": "code",
   "execution_count": null,
   "metadata": {},
   "outputs": [],
   "source": [
    "# one lp - price equal left bound\n",
    "swap_success(PRICE_LEFT_BOUND, ONE_LP, [(Decimal(1), True), (Decimal(1), False)])"
   ]
  },
  {
   "cell_type": "code",
   "execution_count": null,
   "metadata": {},
   "outputs": [],
   "source": [
    "# one lp - price between bounds\n",
    "swap_buy_success(Decimal(2), ONE_LP, Decimal(1))\n",
    "swap_sell_success(Decimal(2), ONE_LP, Decimal(1))"
   ]
  },
  {
   "cell_type": "code",
   "execution_count": null,
   "metadata": {},
   "outputs": [],
   "source": [
    "# one lp - price equal right bound\n",
    "swap_success(PRICE_RIGHT_BOUND, ONE_LP, [(Decimal(1), False), (Decimal(1), True)])"
   ]
  },
  {
   "cell_type": "code",
   "execution_count": null,
   "metadata": {},
   "outputs": [],
   "source": [
    "# one lp - price greater right bound\n",
    "swap_buy_success(Decimal(3), ONE_LP, Decimal(1))\n",
    "swap_sell_success(Decimal(3), ONE_LP, Decimal(1))"
   ]
  },
  {
   "cell_type": "code",
   "execution_count": null,
   "metadata": {},
   "outputs": [],
   "source": [
    "TWO_LP_SEPARATE = [\n",
    "    (TICK_LEFT_BOUND, TICK_LEFT_MIDDLE_BOUND, Decimal(10), Decimal(10)),\n",
    "    (TICK_RIGHT_MIDDLE_BOUND, TICK_RIGHT_BOUND, Decimal(10), Decimal(10))\n",
    "]"
   ]
  },
  {
   "cell_type": "code",
   "execution_count": null,
   "metadata": {},
   "outputs": [],
   "source": [
    "# two lp separate - price lesser / equal left bound\n",
    "swap_buy_success(Decimal(\"0.3\"), TWO_LP_SEPARATE, Decimal(8))\n",
    "swap_sell_success(Decimal(\"0.3\"), TWO_LP_SEPARATE, Decimal(1))"
   ]
  },
  {
   "cell_type": "code",
   "execution_count": null,
   "metadata": {},
   "outputs": [],
   "source": [
    "# two lp separate - price between left bounds\n",
    "swap_buy_success(Decimal(\"1.0001\"), TWO_LP_SEPARATE, Decimal(8))\n",
    "swap_sell_success(Decimal(\"1.0001\"), TWO_LP_SEPARATE, Decimal(17))"
   ]
  },
  {
   "cell_type": "code",
   "execution_count": null,
   "metadata": {},
   "outputs": [],
   "source": [
    "# two lp separate - price equal left middle bound\n",
    "swap_buy_success(PRICE_LEFT_MIDDLE_BOUND, TWO_LP_SEPARATE, Decimal(1))\n",
    "swap_sell_success(PRICE_LEFT_MIDDLE_BOUND, TWO_LP_SEPARATE, Decimal(13))"
   ]
  },
  {
   "cell_type": "code",
   "execution_count": null,
   "metadata": {},
   "outputs": [],
   "source": [
    "# two lp separate - price between middle bounds\n",
    "swap_buy_success(Decimal(2), TWO_LP_SEPARATE, Decimal(1))\n",
    "swap_sell_success(Decimal(2), TWO_LP_SEPARATE, Decimal(13))"
   ]
  },
  {
   "cell_type": "code",
   "execution_count": null,
   "metadata": {},
   "outputs": [],
   "source": [
    "# two lp separate - price equal right middle bound\n",
    "swap_buy_success(PRICE_RIGHT_MIDDLE_BOUND, TWO_LP_SEPARATE, Decimal(35))\n",
    "swap_sell_success(PRICE_RIGHT_MIDDLE_BOUND, TWO_LP_SEPARATE, Decimal(13))"
   ]
  },
  {
   "cell_type": "code",
   "execution_count": null,
   "metadata": {},
   "outputs": [],
   "source": [
    "# two lp separate - price between right bounds\n",
    "swap_buy_success(Decimal(3), TWO_LP_SEPARATE, Decimal(37))\n",
    "swap_sell_success(Decimal(3), TWO_LP_SEPARATE, Decimal(16))"
   ]
  },
  {
   "cell_type": "code",
   "execution_count": null,
   "metadata": {},
   "outputs": [],
   "source": [
    "# two lp separate - price greater/equal right bound\n",
    "swap_buy_success(PRICE_RIGHT_BOUND, TWO_LP_SEPARATE, Decimal(1))\n",
    "swap_sell_success(PRICE_RIGHT_BOUND, TWO_LP_SEPARATE, Decimal(15))"
   ]
  },
  {
   "cell_type": "code",
   "execution_count": null,
   "metadata": {},
   "outputs": [],
   "source": [
    "TWO_LP_DIRECT_NEIGHBORS = [\n",
    "    (TICK_LEFT_BOUND, TICK_LEFT_MIDDLE_BOUND, Decimal(10), Decimal(10)),\n",
    "    (TICK_LEFT_MIDDLE_BOUND, TICK_RIGHT_BOUND, Decimal(10), Decimal(10))\n",
    "]"
   ]
  },
  {
   "cell_type": "code",
   "execution_count": null,
   "metadata": {},
   "outputs": [],
   "source": [
    "# two lp direct neighbors - price lesser / equal left bound\n",
    "swap_buy_success(Decimal(\"0.3\"), TWO_LP_DIRECT_NEIGHBORS, Decimal(8))\n",
    "swap_sell_success(Decimal(\"0.3\"), TWO_LP_DIRECT_NEIGHBORS, Decimal(1))"
   ]
  },
  {
   "cell_type": "code",
   "execution_count": null,
   "metadata": {},
   "outputs": [],
   "source": [
    "# two lp direct neighbors - price between left bounds\n",
    "swap_buy_success(Decimal(\"1.0001\"), TWO_LP_DIRECT_NEIGHBORS, Decimal(8))\n",
    "swap_sell_success(Decimal(\"1.0001\"), TWO_LP_DIRECT_NEIGHBORS, Decimal(17))"
   ]
  },
  {
   "cell_type": "code",
   "execution_count": null,
   "metadata": {},
   "outputs": [],
   "source": [
    "# two lp direct neighbors - price equal middle bound\n",
    "swap_buy_success(PRICE_LEFT_MIDDLE_BOUND, TWO_LP_DIRECT_NEIGHBORS, Decimal(28))\n",
    "swap_sell_success(PRICE_LEFT_MIDDLE_BOUND, TWO_LP_DIRECT_NEIGHBORS, Decimal(13))"
   ]
  },
  {
   "cell_type": "code",
   "execution_count": null,
   "metadata": {},
   "outputs": [],
   "source": [
    "# two lp direct neighbors - price between right bounds\n",
    "swap_buy_success(Decimal(2), TWO_LP_DIRECT_NEIGHBORS, Decimal(30))\n",
    "swap_sell_success(Decimal(2), TWO_LP_DIRECT_NEIGHBORS, Decimal(16))"
   ]
  },
  {
   "cell_type": "code",
   "execution_count": null,
   "metadata": {},
   "outputs": [],
   "source": [
    "# two lp direct neighbors - price greater right bound\n",
    "swap_buy_success(PRICE_RIGHT_BOUND, TWO_LP_DIRECT_NEIGHBORS, Decimal(30))\n",
    "swap_sell_success(PRICE_RIGHT_BOUND, TWO_LP_DIRECT_NEIGHBORS, Decimal(17))"
   ]
  },
  {
   "cell_type": "code",
   "execution_count": null,
   "metadata": {},
   "outputs": [],
   "source": [
    "TWO_LP_OVERLAPPING_EXACT_LEFT = [\n",
    "    (TICK_LEFT_BOUND, TICK_RIGHT_BOUND, Decimal(10), Decimal(10)),\n",
    "    (TICK_LEFT_BOUND, TICK_LEFT_MIDDLE_BOUND, Decimal(10), Decimal(10))\n",
    "]"
   ]
  },
  {
   "cell_type": "code",
   "execution_count": null,
   "metadata": {},
   "outputs": [],
   "source": [
    "# two lp overlapping exact left - price lesser / equal left bound\n",
    "swap_buy_success(PRICE_LEFT_BOUND, TWO_LP_OVERLAPPING_EXACT_LEFT, Decimal(35))\n",
    "swap_sell_success(PRICE_LEFT_BOUND, TWO_LP_OVERLAPPING_EXACT_LEFT, Decimal(1))"
   ]
  },
  {
   "cell_type": "code",
   "execution_count": null,
   "metadata": {},
   "outputs": [],
   "source": [
    "# two lp overlapping exact left - price between left bounds\n",
    "swap_buy_success(Decimal(\"1.0001\"), TWO_LP_OVERLAPPING_EXACT_LEFT, Decimal(13))\n",
    "swap_sell_success(Decimal(\"1.0001\"), TWO_LP_OVERLAPPING_EXACT_LEFT, Decimal(29))"
   ]
  },
  {
   "cell_type": "code",
   "execution_count": null,
   "metadata": {},
   "outputs": [],
   "source": [
    "# two lp overlapping exact left - price equal middle bound\n",
    "swap_buy_success(PRICE_LEFT_MIDDLE_BOUND, TWO_LP_OVERLAPPING_EXACT_LEFT, Decimal(13))\n",
    "swap_sell_success(PRICE_LEFT_MIDDLE_BOUND, TWO_LP_OVERLAPPING_EXACT_LEFT, Decimal(26))"
   ]
  },
  {
   "cell_type": "code",
   "execution_count": null,
   "metadata": {},
   "outputs": [],
   "source": [
    "# two lp overlapping exact left - price between right bounds\n",
    "swap_buy_success(Decimal(2), TWO_LP_OVERLAPPING_EXACT_LEFT, Decimal(9))\n",
    "swap_sell_success(Decimal(2), TWO_LP_OVERLAPPING_EXACT_LEFT, Decimal(25))"
   ]
  },
  {
   "cell_type": "code",
   "execution_count": null,
   "metadata": {},
   "outputs": [],
   "source": [
    "# two lp overlapping exact left - price equal / greater right bound\n",
    "swap_buy_success(PRICE_RIGHT_BOUND, TWO_LP_OVERLAPPING_EXACT_LEFT, Decimal(1))\n",
    "swap_sell_success(PRICE_RIGHT_BOUND, TWO_LP_OVERLAPPING_EXACT_LEFT, Decimal(21))"
   ]
  },
  {
   "cell_type": "code",
   "execution_count": null,
   "metadata": {},
   "outputs": [],
   "source": [
    "TWO_LP_OVERLAPPING_INSIDE = [\n",
    "    (TICK_LEFT_BOUND, TICK_RIGHT_BOUND, Decimal(10), Decimal(10)),\n",
    "    (TICK_LEFT_MIDDLE_BOUND, TICK_RIGHT_MIDDLE_BOUND, Decimal(10), Decimal(10))\n",
    "]"
   ]
  },
  {
   "cell_type": "code",
   "execution_count": null,
   "metadata": {},
   "outputs": [],
   "source": [
    "# two lp overlapping inside - price lesser / equal left bound\n",
    "swap_buy_success(PRICE_LEFT_BOUND, TWO_LP_OVERLAPPING_INSIDE, Decimal(31))\n",
    "swap_sell_success(PRICE_LEFT_BOUND, TWO_LP_OVERLAPPING_INSIDE, Decimal(1))"
   ]
  },
  {
   "cell_type": "code",
   "execution_count": null,
   "metadata": {},
   "outputs": [],
   "source": [
    "# two lp overlapping inside - price between left bounds\n",
    "swap_buy_success(Decimal(\"1.0001\"), TWO_LP_OVERLAPPING_INSIDE, Decimal(34))\n",
    "swap_sell_success(Decimal(\"1.0001\"), TWO_LP_OVERLAPPING_INSIDE, Decimal(13))"
   ]
  },
  {
   "cell_type": "code",
   "execution_count": null,
   "metadata": {},
   "outputs": [],
   "source": [
    "# two lp overlapping inside - price equal left middle bound\n",
    "swap_buy_success(PRICE_LEFT_MIDDLE_BOUND, TWO_LP_OVERLAPPING_INSIDE, Decimal(34))\n",
    "swap_sell_success(PRICE_LEFT_MIDDLE_BOUND, TWO_LP_OVERLAPPING_INSIDE, Decimal(13))"
   ]
  },
  {
   "cell_type": "code",
   "execution_count": null,
   "metadata": {},
   "outputs": [],
   "source": [
    "# two lp overlapping inside - price between middle bounds\n",
    "swap_buy_success(Decimal(2), TWO_LP_OVERLAPPING_INSIDE, Decimal(21))\n",
    "swap_sell_success(Decimal(2), TWO_LP_OVERLAPPING_INSIDE, Decimal(18))"
   ]
  },
  {
   "cell_type": "code",
   "execution_count": null,
   "metadata": {},
   "outputs": [],
   "source": [
    "# two lp overlapping inside - price equal right middle bound\n",
    "swap_buy_success(PRICE_RIGHT_MIDDLE_BOUND, TWO_LP_OVERLAPPING_INSIDE, Decimal(5))\n",
    "swap_sell_success(PRICE_RIGHT_MIDDLE_BOUND, TWO_LP_OVERLAPPING_INSIDE, Decimal(7))"
   ]
  },
  {
   "cell_type": "code",
   "execution_count": null,
   "metadata": {},
   "outputs": [],
   "source": [
    "# two lp overlapping inside - price between right bounds\n",
    "swap_buy_success(Decimal(3), TWO_LP_OVERLAPPING_INSIDE, Decimal(4))\n",
    "swap_sell_success(Decimal(3), TWO_LP_OVERLAPPING_INSIDE, Decimal(7))"
   ]
  },
  {
   "cell_type": "code",
   "execution_count": null,
   "metadata": {},
   "outputs": [],
   "source": [
    "# two lp overlapping inside - price equal / greater right bound\n",
    "swap_buy_success(PRICE_RIGHT_BOUND, TWO_LP_OVERLAPPING_INSIDE, Decimal(1))\n",
    "swap_sell_success(PRICE_RIGHT_BOUND, TWO_LP_OVERLAPPING_INSIDE, Decimal(7))"
   ]
  },
  {
   "cell_type": "code",
   "execution_count": null,
   "metadata": {},
   "outputs": [],
   "source": [
    "TWO_LP_OVERLAPPING_EXACT_RIGHT = [\n",
    "    (TICK_LEFT_BOUND, TICK_RIGHT_BOUND, Decimal(10), Decimal(10)),\n",
    "    (TICK_RIGHT_MIDDLE_BOUND, TICK_RIGHT_BOUND, Decimal(10), Decimal(10))\n",
    "]"
   ]
  },
  {
   "cell_type": "code",
   "execution_count": null,
   "metadata": {},
   "outputs": [],
   "source": [
    "# two lp overlapping exact right bound - price lesser / equal left bound\n",
    "swap_buy_success(PRICE_LEFT_BOUND, TWO_LP_OVERLAPPING_EXACT_RIGHT, Decimal(9))\n",
    "swap_sell_success(PRICE_LEFT_BOUND, TWO_LP_OVERLAPPING_EXACT_RIGHT, Decimal(1))"
   ]
  },
  {
   "cell_type": "code",
   "execution_count": null,
   "metadata": {},
   "outputs": [],
   "source": [
    "# two lp overlapping exact right bound - price between left bounds\n",
    "swap_buy_success(Decimal(\"1.0001\"), TWO_LP_OVERLAPPING_EXACT_RIGHT, Decimal(13))\n",
    "swap_sell_success(Decimal(\"1.0001\"), TWO_LP_OVERLAPPING_EXACT_RIGHT, Decimal(13))"
   ]
  },
  {
   "cell_type": "code",
   "execution_count": null,
   "metadata": {},
   "outputs": [],
   "source": [
    "# two lp overlapping exact right bound - price equal middle bound\n",
    "swap_buy_success(PRICE_RIGHT_MIDDLE_BOUND, TWO_LP_OVERLAPPING_EXACT_RIGHT, Decimal(40))\n",
    "swap_sell_success(PRICE_RIGHT_MIDDLE_BOUND, TWO_LP_OVERLAPPING_EXACT_RIGHT, Decimal(10))"
   ]
  },
  {
   "cell_type": "code",
   "execution_count": null,
   "metadata": {},
   "outputs": [],
   "source": [
    "# two lp overlapping exact right bound - price between right bounds\n",
    "swap_buy_success(Decimal(3), TWO_LP_OVERLAPPING_EXACT_RIGHT, Decimal(41))\n",
    "swap_sell_success(Decimal(3), TWO_LP_OVERLAPPING_EXACT_RIGHT, Decimal(4))"
   ]
  },
  {
   "cell_type": "code",
   "execution_count": null,
   "metadata": {},
   "outputs": [],
   "source": [
    "# two lp overlapping exact right bound - price greater / equal right bounds\n",
    "swap_buy_success(PRICE_RIGHT_BOUND, TWO_LP_OVERLAPPING_EXACT_RIGHT, Decimal(1))\n",
    "swap_sell_success(PRICE_RIGHT_BOUND, TWO_LP_OVERLAPPING_EXACT_RIGHT, Decimal(4))"
   ]
  },
  {
   "cell_type": "code",
   "execution_count": null,
   "metadata": {},
   "outputs": [],
   "source": [
    "swap_buy_success(ATTO_PRECISE_DECIMAL, ONE_LP, ATTO_DECIMAL)\n",
    "swap_sell_success(ATTO_PRECISE_DECIMAL, ONE_LP, ATTO_DECIMAL)"
   ]
  },
  {
   "cell_type": "code",
   "execution_count": null,
   "metadata": {},
   "outputs": [],
   "source": [
    "swap_buy_success(ATTO_PRECISE_DECIMAL, ONE_LP, MAX_SUPPLY - Decimal(10))\n",
    "swap_sell_success(ATTO_PRECISE_DECIMAL, ONE_LP, MAX_SUPPLY -  Decimal(10))"
   ]
  },
  {
   "cell_type": "code",
   "execution_count": null,
   "metadata": {},
   "outputs": [],
   "source": [
    "swap_buy_success(MAX_PRECISE_DECIMAL, ONE_LP, ATTO_DECIMAL)\n",
    "swap_sell_success(MAX_PRECISE_DECIMAL, ONE_LP, ATTO_DECIMAL)"
   ]
  },
  {
   "cell_type": "code",
   "execution_count": null,
   "metadata": {},
   "outputs": [],
   "source": [
    "swap_buy_success(MAX_PRECISE_DECIMAL, ONE_LP, MAX_SUPPLY - Decimal(10))\n",
    "swap_sell_success(MAX_PRECISE_DECIMAL, ONE_LP, MAX_SUPPLY - Decimal(10))"
   ]
  },
  {
   "cell_type": "code",
   "execution_count": null,
   "metadata": {},
   "outputs": [],
   "source": [
    "swap_success(Decimal(2), ONE_LP, [(Decimal(1), False), (Decimal(1), True)])"
   ]
  },
  {
   "cell_type": "code",
   "execution_count": null,
   "metadata": {},
   "outputs": [],
   "source": [
    "swap_success(Decimal(\"1.0001\"), TWO_LP_OVERLAPPING_EXACT_LEFT, [(Decimal(15), False), (Decimal(1), True)])"
   ]
  },
  {
   "cell_type": "code",
   "execution_count": null,
   "metadata": {},
   "outputs": [],
   "source": [
    "swap_success(Decimal(2), TWO_LP_OVERLAPPING_EXACT_LEFT, [(Decimal(2), True), (Decimal(1), False)])"
   ]
  },
  {
   "cell_type": "code",
   "execution_count": null,
   "metadata": {},
   "outputs": [],
   "source": [
    "swap_success(Decimal(\"1.7\"), TWO_LP_OVERLAPPING_EXACT_LEFT, [(Decimal(\"0.169878379173123052\"), True), (Decimal(1), False)])"
   ]
  },
  {
   "cell_type": "code",
   "execution_count": null,
   "metadata": {},
   "outputs": [],
   "source": [
    "swap_success(Decimal(\"1.6\"), TWO_LP_OVERLAPPING_EXACT_LEFT, [(Decimal(\"0.580173504224804644\"), False), (Decimal(\"1\"), True)])"
   ]
  },
  {
   "cell_type": "markdown",
   "metadata": {},
   "source": [
    "### Complex swaps"
   ]
  },
  {
   "cell_type": "code",
   "execution_count": null,
   "metadata": {},
   "outputs": [],
   "source": [
    "POSITIONS_PGPPGP = [\n",
    "    (-10000, -5000, Decimal(10), Decimal(10),),\n",
    "    (-2500, 1000, Decimal(10), Decimal(10)),\n",
    "    (1000, 2500, Decimal(10), Decimal(10)),\n",
    "    (5000, 10000, Decimal(10), Decimal(10))\n",
    "]"
   ]
  },
  {
   "cell_type": "code",
   "execution_count": null,
   "metadata": {},
   "outputs": [],
   "source": [
    "trades = [(Decimal(1000), False), (Decimal(1000), True)]*3\n",
    "trades = [(Decimal(1000), True)]\n",
    "\n",
    "swap_success(tick_to_price(15000), POSITIONS_PGPPGP, trades)\n"
   ]
  },
  {
   "cell_type": "code",
   "execution_count": null,
   "metadata": {},
   "outputs": [],
   "source": [
    "trades = [(Decimal(1000), True), (Decimal(1000), False)]*3\n",
    "trades = [(Decimal(1000), True)]\n",
    "\n",
    "swap_success(tick_to_price(15000), POSITIONS_PGPPGP, trades)"
   ]
  },
  {
   "cell_type": "code",
   "execution_count": null,
   "metadata": {},
   "outputs": [],
   "source": [
    "tick_to_price_sqrt(-2500), tick_to_price_sqrt(-2000) "
   ]
  },
  {
   "cell_type": "code",
   "execution_count": null,
   "metadata": {},
   "outputs": [],
   "source": [
    "# sell precise till tick then buy sell\n",
    "trades = [(Decimal(\"1.817405723238657684\"), True)]\n",
    "\n",
    "swap_success(tick_to_price(-2000), POSITIONS_PGPPGP, trades)"
   ]
  },
  {
   "cell_type": "code",
   "execution_count": null,
   "metadata": {},
   "outputs": [],
   "source": [
    "# sell precise till tick then buy sell\n",
    "trades = [(Decimal(\"1.817405723238657685\"), True)]\n",
    "\n",
    "swap_success(tick_to_price(-2000), POSITIONS_PGPPGP, trades)"
   ]
  },
  {
   "cell_type": "code",
   "execution_count": null,
   "metadata": {},
   "outputs": [],
   "source": [
    "# sell precise till tick then buy sell\n",
    "trades = [(Decimal(\"1.817405723238657684\"), True),\n",
    "          (Decimal(\"1.817405723238657684\"), False),\n",
    "          (Decimal(\"1000\"), True)]\n",
    "\n",
    "swap_success(tick_to_price(-2000), POSITIONS_PGPPGP, trades)"
   ]
  },
  {
   "cell_type": "code",
   "execution_count": null,
   "metadata": {},
   "outputs": [],
   "source": [
    "# sell precise till tick then buy sell\n",
    "trades = [(Decimal(\"1.817405723238657685\"), True),\n",
    "          (Decimal(\"1.817405723238657685\"), False),\n",
    "          (Decimal(\"1000\"), True)]\n",
    "\n",
    "swap_success(tick_to_price(-2000), POSITIONS_PGPPGP, trades)"
   ]
  },
  {
   "cell_type": "code",
   "execution_count": null,
   "metadata": {},
   "outputs": [],
   "source": [
    "# sell precise till tick then buy sell\n",
    "trades = [(Decimal(\"1.817405723238657683\"), True),\n",
    "          (Decimal(\"1.817405723238657685\"), False),\n",
    "          (Decimal(\"1000\"), True)]\n",
    "\n",
    "swap_success(tick_to_price(-2000), POSITIONS_PGPPGP, trades)"
   ]
  },
  {
   "cell_type": "code",
   "execution_count": null,
   "metadata": {},
   "outputs": [],
   "source": [
    "# sell precise till tick - sell buy\n",
    "trades = [(Decimal(\"1.817405723238657684\"), True),\n",
    "          (Decimal(\"1000\"), True),\n",
    "          (Decimal(\"1000\"), False)]\n",
    "\n",
    "swap_success(tick_to_price(-2000), POSITIONS_PGPPGP, trades)"
   ]
  },
  {
   "cell_type": "code",
   "execution_count": null,
   "metadata": {},
   "outputs": [],
   "source": [
    "# buy precise till tick - sell buy\n",
    "trades = [(Decimal(\"1.817405723238657685\"), True),\n",
    "          (Decimal(\"1000\"), True),\n",
    "          (Decimal(\"1000\"), False)]\n",
    "\n",
    "swap_success(tick_to_price(-2000), POSITIONS_PGPPGP, trades)"
   ]
  },
  {
   "cell_type": "code",
   "execution_count": null,
   "metadata": {},
   "outputs": [],
   "source": [
    "# buy precise till tick - sell buy\n",
    "trades = [(Decimal(\"1.817405723238657683\"), True),\n",
    "          (Decimal(\"1000\"), True),\n",
    "          (Decimal(\"1000\"), False)]\n",
    "\n",
    "swap_success(tick_to_price(-2000), POSITIONS_PGPPGP, trades)"
   ]
  },
  {
   "cell_type": "code",
   "execution_count": null,
   "metadata": {},
   "outputs": [],
   "source": [
    "# sell precise till tick - sell buy\n",
    "trades = [(Decimal(\"5.190644768976060773\"), False),]\n",
    "\n",
    "swap_success(tick_to_price(2000), POSITIONS_PGPPGP, trades)"
   ]
  },
  {
   "cell_type": "code",
   "execution_count": null,
   "metadata": {},
   "outputs": [],
   "source": [
    "# buy precise till tick - buy sell\n",
    "trades = [(Decimal(\"5.190644768976060773\"), False),\n",
    "          (Decimal(\"1000\"), False),\n",
    "          (Decimal(\"1000\"), True)]\n",
    "\n",
    "swap_success(tick_to_price(2000), POSITIONS_PGPPGP, trades)"
   ]
  },
  {
   "cell_type": "code",
   "execution_count": null,
   "metadata": {},
   "outputs": [],
   "source": [
    "# buy precise till tick - buy sell 2\n",
    "trades = [(Decimal(\"5.190644768976060774\"), False),\n",
    "          (Decimal(\"1000\"), False),\n",
    "          (Decimal(\"1000\"), True)]\n",
    "\n",
    "swap_success(tick_to_price(2000), POSITIONS_PGPPGP, trades)"
   ]
  },
  {
   "cell_type": "code",
   "execution_count": null,
   "metadata": {},
   "outputs": [],
   "source": [
    "# buy precise till tick - buy sell 3\n",
    "trades = [(Decimal(\"5.190644768976060772\"), False),\n",
    "          (Decimal(\"1000\"), False),\n",
    "          (Decimal(\"1000\"), True)]\n",
    "\n",
    "swap_success(tick_to_price(2000), POSITIONS_PGPPGP, trades)"
   ]
  },
  {
   "cell_type": "code",
   "execution_count": null,
   "metadata": {},
   "outputs": [],
   "source": [
    "# buy precise till tick - sell buy\n",
    "trades = [(Decimal(\"5.190644768976060773\"), False),\n",
    "          (Decimal(\"1000\"), True),\n",
    "          (Decimal(\"1000\"), False)]\n",
    "\n",
    "swap_success(tick_to_price(2000), POSITIONS_PGPPGP, trades)"
   ]
  },
  {
   "cell_type": "code",
   "execution_count": null,
   "metadata": {},
   "outputs": [],
   "source": [
    "# buy precise till tick - sell buy 2\n",
    "trades = [(Decimal(\"5.190644768976060774\"), False),\n",
    "          (Decimal(\"1000\"), True),\n",
    "          (Decimal(\"1000\"), False)]\n",
    "\n",
    "swap_success(tick_to_price(2000), POSITIONS_PGPPGP, trades)"
   ]
  },
  {
   "cell_type": "code",
   "execution_count": null,
   "metadata": {},
   "outputs": [],
   "source": [
    "# buy precise till tick - sell buy 2\n",
    "trades = [(Decimal(\"5.190644768976060772\"), False),\n",
    "          (Decimal(\"1000\"), True),\n",
    "          (Decimal(\"1000\"), False)]\n",
    "\n",
    "swap_success(tick_to_price(2000), POSITIONS_PGPPGP, trades)"
   ]
  },
  {
   "cell_type": "markdown",
   "metadata": {},
   "source": [
    "### Now till non-zero liq tick"
   ]
  },
  {
   "cell_type": "code",
   "execution_count": null,
   "metadata": {},
   "outputs": [],
   "source": [
    "# sell precise till tick 1\n",
    "trades = [(Decimal(\"8.607144313287635258\"), True),]\n",
    "\n",
    "swap_success(tick_to_price(2000), POSITIONS_PGPPGP, trades)"
   ]
  },
  {
   "cell_type": "code",
   "execution_count": null,
   "metadata": {},
   "outputs": [],
   "source": [
    "# sell precise till tick\n",
    "trades = [(Decimal(\"8.607144313287635259\"), True),]\n",
    "\n",
    "swap_success(tick_to_price(2000), POSITIONS_PGPPGP, trades)"
   ]
  },
  {
   "cell_type": "code",
   "execution_count": null,
   "metadata": {},
   "outputs": [],
   "source": [
    "# sell precise till tick\n",
    "trades = [(Decimal(\"8.607144313287635257\"), True),]\n",
    "\n",
    "swap_success(tick_to_price(2000), POSITIONS_PGPPGP, trades)"
   ]
  },
  {
   "cell_type": "code",
   "execution_count": null,
   "metadata": {},
   "outputs": [],
   "source": [
    "# precise till tick - sell buy sell \n",
    "trades = [(Decimal(\"8.607144313287635258\"), True),\n",
    "          (Decimal(1000), False),\n",
    "          (Decimal(1000), True),]\n",
    "\n",
    "swap_success(tick_to_price(2000), POSITIONS_PGPPGP, trades)"
   ]
  },
  {
   "cell_type": "code",
   "execution_count": null,
   "metadata": {},
   "outputs": [],
   "source": [
    "# precise till tick - sell buy sell \n",
    "trades = [(Decimal(\"8.607144313287635259\"), True),\n",
    "          (Decimal(1000), False),\n",
    "          (Decimal(1000), True),]\n",
    "\n",
    "swap_success(tick_to_price(2000), POSITIONS_PGPPGP, trades)"
   ]
  },
  {
   "cell_type": "code",
   "execution_count": null,
   "metadata": {},
   "outputs": [],
   "source": [
    "# precise till tick - sell buy sell \n",
    "trades = [(Decimal(\"8.607144313287635257\"), True),\n",
    "          (Decimal(1000), False),\n",
    "          (Decimal(1000), True),]\n",
    "\n",
    "swap_success(tick_to_price(2000), POSITIONS_PGPPGP, trades)"
   ]
  },
  {
   "cell_type": "code",
   "execution_count": null,
   "metadata": {},
   "outputs": [],
   "source": [
    "# precise till tick - sell sell buy 1\n",
    "trades = [(Decimal(\"8.607144313287635258\"), True),\n",
    "          (Decimal(1000), True),\n",
    "          (Decimal(1000), False),]\n",
    "\n",
    "swap_success(tick_to_price(2000), POSITIONS_PGPPGP, trades)"
   ]
  },
  {
   "cell_type": "code",
   "execution_count": null,
   "metadata": {},
   "outputs": [],
   "source": [
    "# precise till tick - sell sell buy 2\n",
    "trades = [(Decimal(\"8.607144313287635259\"), True),\n",
    "          (Decimal(1000), True),\n",
    "          (Decimal(1000), False),]\n",
    "\n",
    "swap_success(tick_to_price(2000), POSITIONS_PGPPGP, trades)"
   ]
  },
  {
   "cell_type": "code",
   "execution_count": null,
   "metadata": {},
   "outputs": [],
   "source": [
    "# precise till tick - sell sell buy 3\n",
    "trades = [(Decimal(\"8.607144313287635257\"), True),\n",
    "          (Decimal(1000), True),\n",
    "          (Decimal(1000), False),]\n",
    "\n",
    "swap_success(tick_to_price(2000), POSITIONS_PGPPGP, trades)"
   ]
  },
  {
   "cell_type": "code",
   "execution_count": null,
   "metadata": {},
   "outputs": [],
   "source": [
    "# precise till tick - buy 1\n",
    "trades = [(Decimal(\"9.512318024187211109\"), False)]\n",
    "\n",
    "swap_success(tick_to_price(-2000), POSITIONS_PGPPGP, trades)"
   ]
  },
  {
   "cell_type": "code",
   "execution_count": null,
   "metadata": {},
   "outputs": [],
   "source": [
    "# precise till tick - buy 2\n",
    "trades = [(Decimal(\"9.512318024187211110\"), False)]\n",
    "\n",
    "swap_success(tick_to_price(-2000), POSITIONS_PGPPGP, trades)"
   ]
  },
  {
   "cell_type": "code",
   "execution_count": null,
   "metadata": {},
   "outputs": [],
   "source": [
    "# precise till tick - buy 3\n",
    "trades = [(Decimal(\"9.512318024187211108\"), False)]\n",
    "\n",
    "swap_success(tick_to_price(-2000), POSITIONS_PGPPGP, trades)"
   ]
  },
  {
   "cell_type": "code",
   "execution_count": null,
   "metadata": {},
   "outputs": [],
   "source": [
    "# precise till tick - buy buy sell 1\n",
    "trades = [(Decimal(\"9.512318024187211109\"), False),\n",
    "          (Decimal(\"1000\"), False),\n",
    "          (Decimal(\"1000\"), True)]\n",
    "\n",
    "swap_success(tick_to_price(-2000), POSITIONS_PGPPGP, trades)    "
   ]
  },
  {
   "cell_type": "code",
   "execution_count": null,
   "metadata": {},
   "outputs": [],
   "source": [
    "# precise till tick - buy buy sell 2\n",
    "trades = [(Decimal(\"9.512318024187211110\"), False),\n",
    "          (Decimal(\"1000\"), False),\n",
    "          (Decimal(\"1000\"), True)]\n",
    "\n",
    "swap_success(tick_to_price(-2000), POSITIONS_PGPPGP, trades)    "
   ]
  },
  {
   "cell_type": "code",
   "execution_count": null,
   "metadata": {},
   "outputs": [],
   "source": [
    "# precise till tick - buy buy sell 3\n",
    "trades = [(Decimal(\"9.512318024187211108\"), False),\n",
    "          (Decimal(\"1000\"), False),\n",
    "          (Decimal(\"1000\"), True)]\n",
    "\n",
    "swap_success(tick_to_price(-2000), POSITIONS_PGPPGP, trades)   "
   ]
  },
  {
   "cell_type": "code",
   "execution_count": null,
   "metadata": {},
   "outputs": [],
   "source": [
    "# precise till tick - buy sell buy 1\n",
    "trades = [(Decimal(\"9.512318024187211109\"), False),\n",
    "          (Decimal(\"1000\"), True),\n",
    "          (Decimal(\"1000\"), False)]\n",
    "\n",
    "swap_success(tick_to_price(-2000), POSITIONS_PGPPGP, trades)   "
   ]
  },
  {
   "cell_type": "code",
   "execution_count": null,
   "metadata": {},
   "outputs": [],
   "source": [
    "# precise till tick - buy sell buy 2\n",
    "trades = [(Decimal(\"9.512318024187211110\"), False),\n",
    "          (Decimal(\"1000\"), True),\n",
    "          (Decimal(\"1000\"), False)]\n",
    "\n",
    "swap_success(tick_to_price(-2000), POSITIONS_PGPPGP, trades)   "
   ]
  },
  {
   "cell_type": "code",
   "execution_count": null,
   "metadata": {},
   "outputs": [],
   "source": [
    "# precise till tick - buy sell buy 3\n",
    "trades = [(Decimal(\"9.512318024187211108\"), False),\n",
    "          (Decimal(\"1000\"), True),\n",
    "          (Decimal(\"1000\"), False)]\n",
    "\n",
    "swap_success(tick_to_price(-2000), POSITIONS_PGPPGP, trades)   "
   ]
  },
  {
   "cell_type": "markdown",
   "metadata": {},
   "source": [
    "Swap minimum amount from zero liq"
   ]
  },
  {
   "cell_type": "code",
   "execution_count": null,
   "metadata": {},
   "outputs": [],
   "source": [
    "# Swap minimum amount from zero liq - buy sell buy \n",
    "trades = [(Decimal(\"0.000000000000000001\"), False),\n",
    "          (Decimal(\"1000\"), True),\n",
    "          (Decimal(\"1000\"), False)]\n",
    "\n",
    "swap_success(tick_to_price(3500), POSITIONS_PGPPGP, trades)   "
   ]
  },
  {
   "cell_type": "code",
   "execution_count": null,
   "metadata": {},
   "outputs": [],
   "source": [
    "# Swap minimum amount from zero liq - buy buy sell\n",
    "trades = [(Decimal(\"0.000000000000000001\"), False),\n",
    "          (Decimal(\"1000\"), False),\n",
    "          (Decimal(\"1000\"), True)]\n",
    "\n",
    "swap_success(tick_to_price(3500), POSITIONS_PGPPGP, trades)   "
   ]
  },
  {
   "cell_type": "code",
   "execution_count": null,
   "metadata": {},
   "outputs": [],
   "source": [
    "# Swap minimum amount from zero liq - sell buy sell\n",
    "trades = [(Decimal(\"0.000000000000000001\"), True),\n",
    "          (Decimal(\"1000\"), False),\n",
    "          (Decimal(\"1000\"), True)]\n",
    "\n",
    "swap_success(tick_to_price(3500), POSITIONS_PGPPGP, trades)   "
   ]
  },
  {
   "cell_type": "code",
   "execution_count": null,
   "metadata": {},
   "outputs": [],
   "source": [
    "# Swap minimum amount from zero liq - sell sell buy\n",
    "trades = [(Decimal(\"0.000000000000000001\"), True),\n",
    "          (Decimal(\"1000\"), True),\n",
    "          (Decimal(\"1000\"), False)]\n",
    "\n",
    "swap_success(tick_to_price(3500), POSITIONS_PGPPGP, trades)  "
   ]
  },
  {
   "cell_type": "markdown",
   "metadata": {},
   "source": [
    "## New tests"
   ]
  },
  {
   "cell_type": "code",
   "execution_count": null,
   "metadata": {},
   "outputs": [],
   "source": [
    "# test_swap_one_lp_price_equal_left_bound_buy\n",
    "\n",
    "swap_success(PRICE_LEFT_BOUND, ONE_LP, [(Decimal(1), False)])"
   ]
  },
  {
   "cell_type": "code",
   "execution_count": null,
   "metadata": {},
   "outputs": [],
   "source": [
    "# test_swap_one_lp_price_equal_left_bound_sell_buy\n",
    "\n",
    "swap_success(PRICE_LEFT_BOUND, ONE_LP, [(Decimal(1), True), (Decimal(1), False)])"
   ]
  },
  {
   "cell_type": "code",
   "execution_count": null,
   "metadata": {},
   "outputs": [],
   "source": []
  }
 ],
 "metadata": {
  "kernelspec": {
   "display_name": "base",
   "language": "python",
   "name": "python3"
  },
  "language_info": {
   "codemirror_mode": {
    "name": "ipython",
    "version": 3
   },
   "file_extension": ".py",
   "mimetype": "text/x-python",
   "name": "python",
   "nbconvert_exporter": "python",
   "pygments_lexer": "ipython3",
   "version": "3.11.5"
  }
 },
 "nbformat": 4,
 "nbformat_minor": 2
}
