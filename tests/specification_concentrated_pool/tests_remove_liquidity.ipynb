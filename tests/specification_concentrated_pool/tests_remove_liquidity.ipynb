{
 "cells": [
  {
   "cell_type": "code",
   "execution_count": null,
   "metadata": {},
   "outputs": [],
   "source": [
    "from add_liquidity import *\n",
    "from constants import *\n",
    "\n",
    "from remove_liquidity import remove_liquidity_success, remove_liquidity_default_scenario, remove_liquidity\n",
    "from swap import *\n",
    "from pool import *\n",
    "\n",
    "logging.config.fileConfig('logging.ini')"
   ]
  },
  {
   "cell_type": "code",
   "execution_count": null,
   "metadata": {},
   "outputs": [],
   "source": [
    "TICK_LEFT_BOUND = -10000;\n",
    "TICK_LEFT_MIDDLE_BOUND = 5000;\n",
    "TICK_RIGHT_MIDDLE_BOUND = 10000;\n",
    "TICK_RIGHT_BOUND = 15000;\n",
    "\n",
    "PRICE_LEFT_BOUND = tick_to_price(TICK_LEFT_BOUND)  # 0.3678978\n",
    "PRICE_LEFT_MIDDLE_BOUND = tick_to_price(TICK_LEFT_MIDDLE_BOUND) # 1.6486800\n",
    "PRICE_RIGHT_MIDDLE_BOUND = tick_to_price(TICK_RIGHT_MIDDLE_BOUND) # 2.7181459\n",
    "PRICE_RIGHT_BOUND = tick_to_price(TICK_RIGHT_BOUND) # 4.4813529"
   ]
  },
  {
   "cell_type": "code",
   "execution_count": null,
   "metadata": {},
   "outputs": [],
   "source": [
    "ONE_LP = [(TICK_LEFT_BOUND, TICK_RIGHT_BOUND, Decimal(10), Decimal(10))]"
   ]
  },
  {
   "cell_type": "code",
   "execution_count": null,
   "metadata": {},
   "outputs": [],
   "source": [
    "# add, remove\n",
    "remove_liquidity_success(Decimal(2), ONE_LP, [], [0], [])\n",
    "None"
   ]
  },
  {
   "cell_type": "code",
   "execution_count": null,
   "metadata": {},
   "outputs": [],
   "source": [
    "# add, swap, remove\n",
    "remove_liquidity_success(Decimal(2), ONE_LP, [(Decimal(1), True)], [0], [])\n",
    "None"
   ]
  },
  {
   "cell_type": "code",
   "execution_count": null,
   "metadata": {},
   "outputs": [],
   "source": [
    "# add, swap, swap, remove (bring price back to original)\n",
    "remove_liquidity_success(Decimal(2), ONE_LP, [(Decimal(1), True), (Decimal(\"1.794975288895955090\"), False)], [0], [])\n",
    "None"
   ]
  },
  {
   "cell_type": "code",
   "execution_count": null,
   "metadata": {},
   "outputs": [],
   "source": [
    "# add, remove, add, swap (check whether possible to add and swap after full remove)\n",
    "remove_liquidity_success(Decimal(2), ONE_LP, [], [0], [(Decimal(1), True)], ONE_LP)\n",
    "None"
   ]
  },
  {
   "cell_type": "code",
   "execution_count": null,
   "metadata": {},
   "outputs": [],
   "source": [
    "TWO_LP_OVERLAPPING_INSIDE = [\n",
    "    (TICK_LEFT_BOUND, TICK_RIGHT_BOUND, Decimal(10), Decimal(10)),\n",
    "    (TICK_LEFT_MIDDLE_BOUND, TICK_RIGHT_MIDDLE_BOUND, Decimal(10), Decimal(10))\n",
    "]\n",
    "\n",
    "# add, add, remove, remove (multiple consequitive remove)\n",
    "remove_liquidity_success(Decimal(2), TWO_LP_OVERLAPPING_INSIDE, [], [0, 0], [])\n",
    "None"
   ]
  },
  {
   "cell_type": "code",
   "execution_count": null,
   "metadata": {},
   "outputs": [],
   "source": [
    "# test correct updating of active tick after remove liquidity\n",
    "# ADD (outer) with price in the middle\n",
    "# ADD (inner)\n",
    "# REMOVE (inner)\n",
    "# SELL beyond left middle bound (active tick is now in inconsistent state if not updated)\n",
    "# ADD with left bound between price and left middle bound\n",
    "# BUY beyond at least left bound of newly added liquidity (or beyond previous active tick)\n",
    "\n",
    "price = Decimal(2)\n",
    "price_sqrt = price.sqrt()\n",
    "added_positions = []\n",
    "for (left_bound, right_bound, x_amount, y_amount) in TWO_LP_OVERLAPPING_INSIDE: # ADD both, REMOVE second = only ADD first\n",
    "    L, _, _ = add_liquidity(price, left_bound, right_bound, x_amount, y_amount)\n",
    "    added_positions.append((L, left_bound, right_bound))\n",
    "remove_L, remove_left_tick, remove_right_tick = added_positions.pop(1)\n",
    "remove_liquidity(remove_L, price_sqrt ** 2, remove_left_tick, remove_right_tick)\n",
    "price_sqrt, output, remainder, _ = calculate_swap(added_positions, price_sqrt, Decimal(2), True) # SELL\n",
    "for (left_bound, right_bound, x_amount, y_amount) in TWO_LP_OVERLAPPING_INSIDE[1:]:  # ADD second position again\n",
    "    L, _, _ = add_liquidity(price_sqrt**2, left_bound, right_bound, x_amount, y_amount)\n",
    "    added_positions.append((L, left_bound, right_bound))\n",
    "price_sqrt, output, remainder, _ = calculate_swap(added_positions, price_sqrt, Decimal(10), False) # BUY"
   ]
  },
  {
   "cell_type": "code",
   "execution_count": null,
   "metadata": {},
   "outputs": [],
   "source": [
    "# add, remove with MAX_SUPPLY\n",
    "ONE_LP_MAX_SUPPLY = [(TICK_LEFT_BOUND, TICK_RIGHT_BOUND, MAX_SUPPLY, MAX_SUPPLY)]\n",
    "remove_liquidity_success(Decimal(2), ONE_LP_MAX_SUPPLY, [], [0], [])\n",
    "None"
   ]
  },
  {
   "cell_type": "code",
   "execution_count": null,
   "metadata": {},
   "outputs": [],
   "source": [
    "# All following examples will follow this pattern\n",
    "# add, add, remove, swap, remove"
   ]
  },
  {
   "cell_type": "code",
   "execution_count": null,
   "metadata": {},
   "outputs": [],
   "source": [
    "TWO_LP_IDENTICAL = [\n",
    "    (TICK_LEFT_BOUND, TICK_RIGHT_BOUND, Decimal(10), Decimal(10)),\n",
    "    (TICK_LEFT_BOUND, TICK_RIGHT_BOUND, Decimal(10), Decimal(10))\n",
    "]"
   ]
  },
  {
   "cell_type": "code",
   "execution_count": null,
   "metadata": {},
   "outputs": [],
   "source": [
    "# two lp identical - price lesser / equal left bound\n",
    "remove_liquidity_default_scenario(Decimal(\"0.3\"), TWO_LP_IDENTICAL)\n",
    "None"
   ]
  },
  {
   "cell_type": "code",
   "execution_count": null,
   "metadata": {},
   "outputs": [],
   "source": [
    "# two lp identical - price between bounds\n",
    "remove_liquidity_default_scenario(Decimal(2), TWO_LP_IDENTICAL)\n",
    "None"
   ]
  },
  {
   "cell_type": "code",
   "execution_count": null,
   "metadata": {},
   "outputs": [],
   "source": [
    "# two lp identical - price greater / equal right bound\n",
    "remove_liquidity_default_scenario(PRICE_RIGHT_BOUND, TWO_LP_IDENTICAL)\n",
    "None"
   ]
  },
  {
   "cell_type": "code",
   "execution_count": null,
   "metadata": {},
   "outputs": [],
   "source": [
    "liquidity_python = decimal.Decimal(\"6.6208731164376104264363674850772245712682214635267991765229191370\")\n",
    "\n",
    "liquidity = decimal.Decimal(\"6.6208731164376104264363674850772245712682214635267991765229191363\")\n",
    "pls = decimal.Decimal(\"0.6065458221578347578405131291196676381010272902296962274902328579\")\n",
    "prs = decimal.Decimal(\"2.116920635892453415903744380311046607359547161998842524737018411\")\n",
    "price_sqrt = decimal.Decimal(\"1.6040505561343578095683588001901790342718967223408928622677446809\")\n",
    "print(price_sqrt)\n",
    "# price_sqrt = decimal.Decimal(\"2.5729781866349425743001881278971065388886321877696093977340582393137247712563228065710574092988611781115933699634644914167965065461750041566089409539595063247270786263386546628189280123361538712801381975195114994971519569742102906939670318316836959616405891358994682219865054581928850836216074251582713693857305134374938481854850816968646807716653321133069823075585527590500446846989811615133096535793949388104268168379777839214309047484092190153360628643245459817612210785179521853437816960075533277\").sqrt()\n",
    "# print(price_sqrt)\n",
    "x_amount = liquidity / price_sqrt - liquidity / prs\n",
    "y_amount = liquidity * (price_sqrt - pls)\n",
    "\n",
    "print(x_amount)\n",
    "print(y_amount)"
   ]
  },
  {
   "cell_type": "code",
   "execution_count": null,
   "metadata": {},
   "outputs": [],
   "source": [
    "TWO_LP_SEPARATE = [\n",
    "    (TICK_LEFT_BOUND, TICK_LEFT_MIDDLE_BOUND, Decimal(10), Decimal(10)),\n",
    "    (TICK_RIGHT_MIDDLE_BOUND, TICK_RIGHT_BOUND, Decimal(10), Decimal(10))\n",
    "]"
   ]
  },
  {
   "cell_type": "code",
   "execution_count": null,
   "metadata": {},
   "outputs": [],
   "source": [
    "# two lp separate - price lesser / equal left bound\n",
    "remove_liquidity_default_scenario(Decimal(\"0.3\"), TWO_LP_SEPARATE)\n",
    "None"
   ]
  },
  {
   "cell_type": "code",
   "execution_count": null,
   "metadata": {},
   "outputs": [],
   "source": [
    "# two lp separate - price between left bounds\n",
    "remove_liquidity_default_scenario(Decimal(\"1.0001\"), TWO_LP_SEPARATE)\n",
    "None"
   ]
  },
  {
   "cell_type": "code",
   "execution_count": null,
   "metadata": {},
   "outputs": [],
   "source": [
    "# two lp separate - price equal left middle bound\n",
    "remove_liquidity_default_scenario(PRICE_LEFT_MIDDLE_BOUND, TWO_LP_SEPARATE)"
   ]
  },
  {
   "cell_type": "code",
   "execution_count": null,
   "metadata": {},
   "outputs": [],
   "source": [
    "# two lp separate - price between middle bounds\n",
    "remove_liquidity_default_scenario(Decimal(2), TWO_LP_SEPARATE)"
   ]
  },
  {
   "cell_type": "code",
   "execution_count": null,
   "metadata": {},
   "outputs": [],
   "source": [
    "# two lp separate - price equal right middle bound\n",
    "remove_liquidity_default_scenario(PRICE_RIGHT_MIDDLE_BOUND, TWO_LP_SEPARATE)"
   ]
  },
  {
   "cell_type": "code",
   "execution_count": null,
   "metadata": {},
   "outputs": [],
   "source": [
    "# two lp separate - price between right bounds\n",
    "remove_liquidity_default_scenario(Decimal(3), TWO_LP_SEPARATE)"
   ]
  },
  {
   "cell_type": "code",
   "execution_count": null,
   "metadata": {},
   "outputs": [],
   "source": [
    "# two lp separate - price greater/equal right bound\n",
    "remove_liquidity_default_scenario(PRICE_RIGHT_BOUND, TWO_LP_SEPARATE)"
   ]
  },
  {
   "cell_type": "code",
   "execution_count": null,
   "metadata": {},
   "outputs": [],
   "source": [
    "TWO_LP_DIRECT_NEIGHBORS = [\n",
    "    (TICK_LEFT_BOUND, TICK_LEFT_MIDDLE_BOUND, Decimal(10), Decimal(10)),\n",
    "    (TICK_LEFT_MIDDLE_BOUND, TICK_RIGHT_BOUND, Decimal(10), Decimal(10))\n",
    "]"
   ]
  },
  {
   "cell_type": "code",
   "execution_count": null,
   "metadata": {},
   "outputs": [],
   "source": [
    "# two lp direct neighbors - price lesser / equal left bound\n",
    "remove_liquidity_default_scenario(Decimal(\"0.3\"), TWO_LP_DIRECT_NEIGHBORS)"
   ]
  },
  {
   "cell_type": "code",
   "execution_count": null,
   "metadata": {},
   "outputs": [],
   "source": [
    "# two lp direct neighbors - price between left bounds\n",
    "remove_liquidity_default_scenario(Decimal(\"1.0001\"), TWO_LP_DIRECT_NEIGHBORS)"
   ]
  },
  {
   "cell_type": "code",
   "execution_count": null,
   "metadata": {},
   "outputs": [],
   "source": [
    "print(f'{decimal.Decimal(\"0.00000000000000000000000000009239248394839483948394853\").sqrt():f}')"
   ]
  },
  {
   "cell_type": "code",
   "execution_count": null,
   "metadata": {},
   "outputs": [],
   "source": [
    "# two lp direct neighbors - price equal middle bound\n",
    "remove_liquidity_default_scenario(PRICE_LEFT_MIDDLE_BOUND, TWO_LP_DIRECT_NEIGHBORS)"
   ]
  },
  {
   "cell_type": "code",
   "execution_count": null,
   "metadata": {},
   "outputs": [],
   "source": [
    "# two lp direct neighbors - price between right bounds\n",
    "remove_liquidity_default_scenario(Decimal(2), TWO_LP_DIRECT_NEIGHBORS)"
   ]
  },
  {
   "cell_type": "code",
   "execution_count": null,
   "metadata": {},
   "outputs": [],
   "source": [
    "# two lp direct neighbors - price equal / greater right bound\n",
    "remove_liquidity_default_scenario(PRICE_RIGHT_BOUND, TWO_LP_DIRECT_NEIGHBORS)"
   ]
  },
  {
   "cell_type": "code",
   "execution_count": null,
   "metadata": {},
   "outputs": [],
   "source": [
    "TWO_LP_OVERLAPPING_EXACT_LEFT = [\n",
    "    (TICK_LEFT_BOUND, TICK_RIGHT_BOUND, Decimal(10), Decimal(10)),\n",
    "    (TICK_LEFT_BOUND, TICK_LEFT_MIDDLE_BOUND, Decimal(10), Decimal(10))\n",
    "]"
   ]
  },
  {
   "cell_type": "code",
   "execution_count": null,
   "metadata": {},
   "outputs": [],
   "source": [
    "# two lp overlapping exact left - price lesser / equal left bound\n",
    "remove_liquidity_default_scenario(PRICE_LEFT_BOUND, TWO_LP_OVERLAPPING_EXACT_LEFT, amount=1)"
   ]
  },
  {
   "cell_type": "code",
   "execution_count": null,
   "metadata": {},
   "outputs": [],
   "source": [
    "# two lp overlapping exact left - price between left bounds\n",
    "remove_liquidity_default_scenario(Decimal(\"1.0001\"), TWO_LP_OVERLAPPING_EXACT_LEFT)"
   ]
  },
  {
   "cell_type": "code",
   "execution_count": null,
   "metadata": {},
   "outputs": [],
   "source": [
    "# two lp overlapping exact left - price equal middle bound\n",
    "remove_liquidity_default_scenario(PRICE_LEFT_MIDDLE_BOUND, TWO_LP_OVERLAPPING_EXACT_LEFT)"
   ]
  },
  {
   "cell_type": "code",
   "execution_count": null,
   "metadata": {},
   "outputs": [],
   "source": [
    "# two lp overlapping exact left - price between right bounds\n",
    "remove_liquidity_default_scenario(Decimal(2), TWO_LP_OVERLAPPING_EXACT_LEFT)"
   ]
  },
  {
   "cell_type": "code",
   "execution_count": null,
   "metadata": {},
   "outputs": [],
   "source": [
    "# two lp overlapping exact left - price equal / greater right bound\n",
    "remove_liquidity_default_scenario(PRICE_RIGHT_BOUND, TWO_LP_OVERLAPPING_EXACT_LEFT, amount=3)"
   ]
  },
  {
   "cell_type": "code",
   "execution_count": null,
   "metadata": {},
   "outputs": [],
   "source": [
    "TWO_LP_OVERLAPPING_INSIDE = [\n",
    "    (TICK_LEFT_BOUND, TICK_RIGHT_BOUND, Decimal(10), Decimal(10)),\n",
    "    (TICK_LEFT_MIDDLE_BOUND, TICK_RIGHT_MIDDLE_BOUND, Decimal(10), Decimal(10))\n",
    "]"
   ]
  },
  {
   "cell_type": "code",
   "execution_count": null,
   "metadata": {},
   "outputs": [],
   "source": [
    "# two lp overlapping inside - price lesser / equal left bound\n",
    "remove_liquidity_default_scenario(PRICE_LEFT_BOUND, TWO_LP_OVERLAPPING_INSIDE, amount=1)"
   ]
  },
  {
   "cell_type": "code",
   "execution_count": null,
   "metadata": {},
   "outputs": [],
   "source": [
    "# two lp overlapping inside - price between left bounds\n",
    "remove_liquidity_default_scenario(Decimal(\"1.0001\"), TWO_LP_OVERLAPPING_INSIDE, amount=1)"
   ]
  },
  {
   "cell_type": "code",
   "execution_count": null,
   "metadata": {},
   "outputs": [],
   "source": [
    "# two lp overlapping inside - price equal left middle bound\n",
    "remove_liquidity_default_scenario(PRICE_LEFT_MIDDLE_BOUND, TWO_LP_OVERLAPPING_INSIDE)"
   ]
  },
  {
   "cell_type": "code",
   "execution_count": null,
   "metadata": {},
   "outputs": [],
   "source": [
    "# two lp overlapping inside - price between middle bounds\n",
    "remove_liquidity_default_scenario(Decimal(2), TWO_LP_OVERLAPPING_INSIDE, amount=\"0.5\")"
   ]
  },
  {
   "cell_type": "code",
   "execution_count": null,
   "metadata": {},
   "outputs": [],
   "source": [
    "# two lp overlapping inside - price equal right middle bound\n",
    "remove_liquidity_default_scenario(PRICE_RIGHT_MIDDLE_BOUND, TWO_LP_OVERLAPPING_INSIDE, amount=\"1\")"
   ]
  },
  {
   "cell_type": "code",
   "execution_count": null,
   "metadata": {},
   "outputs": [],
   "source": [
    "# two lp overlapping inside - price between right bounds\n",
    "remove_liquidity_default_scenario(Decimal(3), TWO_LP_OVERLAPPING_INSIDE)"
   ]
  },
  {
   "cell_type": "code",
   "execution_count": null,
   "metadata": {},
   "outputs": [],
   "source": [
    "# two lp overlapping inside - price equal / greater right bound\n",
    "remove_liquidity_default_scenario(PRICE_RIGHT_BOUND, TWO_LP_OVERLAPPING_INSIDE)"
   ]
  },
  {
   "cell_type": "code",
   "execution_count": null,
   "metadata": {},
   "outputs": [],
   "source": [
    "TWO_LP_OVERLAPPING_EXACT_RIGHT = [\n",
    "    (TICK_LEFT_BOUND, TICK_RIGHT_BOUND, Decimal(10), Decimal(10)),\n",
    "    (TICK_RIGHT_MIDDLE_BOUND, TICK_RIGHT_BOUND, Decimal(10), Decimal(10))\n",
    "]"
   ]
  },
  {
   "cell_type": "code",
   "execution_count": null,
   "metadata": {},
   "outputs": [],
   "source": [
    "# two lp overlapping exact right bound - price lesser / equal left bound\n",
    "remove_liquidity_default_scenario(PRICE_LEFT_BOUND, TWO_LP_OVERLAPPING_EXACT_RIGHT, amount=9)"
   ]
  },
  {
   "cell_type": "code",
   "execution_count": null,
   "metadata": {},
   "outputs": [],
   "source": [
    "# two lp overlapping exact right bound - price between left bounds\n",
    "remove_liquidity_default_scenario(Decimal(\"1.0001\"), TWO_LP_OVERLAPPING_EXACT_RIGHT, amount=13)"
   ]
  },
  {
   "cell_type": "code",
   "execution_count": null,
   "metadata": {},
   "outputs": [],
   "source": [
    "# two lp overlapping exact right bound - price equal middle bound\n",
    "remove_liquidity_default_scenario(PRICE_RIGHT_MIDDLE_BOUND, TWO_LP_OVERLAPPING_EXACT_RIGHT)"
   ]
  },
  {
   "cell_type": "code",
   "execution_count": null,
   "metadata": {},
   "outputs": [],
   "source": [
    "# two lp overlapping exact right bound - price between right bounds\n",
    "remove_liquidity_default_scenario(Decimal(3), TWO_LP_OVERLAPPING_EXACT_RIGHT, amount=\"0.2\")"
   ]
  },
  {
   "cell_type": "code",
   "execution_count": null,
   "metadata": {},
   "outputs": [],
   "source": [
    "# two lp overlapping exact right bound - price greater / equal right bounds\n",
    "remove_liquidity_default_scenario(PRICE_RIGHT_BOUND, TWO_LP_OVERLAPPING_EXACT_RIGHT, amount=\"0.5\")"
   ]
  }
 ],
 "metadata": {
  "kernelspec": {
   "display_name": "base",
   "language": "python",
   "name": "python3"
  },
  "language_info": {
   "codemirror_mode": {
    "name": "ipython",
    "version": 3
   },
   "file_extension": ".py",
   "mimetype": "text/x-python",
   "name": "python",
   "nbconvert_exporter": "python",
   "pygments_lexer": "ipython3",
   "version": "3.11.6"
  }
 },
 "nbformat": 4,
 "nbformat_minor": 2
}
