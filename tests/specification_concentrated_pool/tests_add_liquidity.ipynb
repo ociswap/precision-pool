{
 "cells": [
  {
   "cell_type": "code",
   "execution_count": null,
   "metadata": {},
   "outputs": [],
   "source": [
    "import logging\n",
    "\n",
    "from add_liquidity import *\n",
    "from constants import *\n",
    "\n",
    "logging.basicConfig(level=logging.DEBUG)\n",
    "logging.config.fileConfig('logging.ini')"
   ]
  },
  {
   "cell_type": "code",
   "execution_count": null,
   "metadata": {},
   "outputs": [],
   "source": [
    "# Constants\n",
    "\n",
    "MAX_LIQUIDITY = Decimal(\"3138668841663005800034\")"
   ]
  },
  {
   "cell_type": "code",
   "execution_count": null,
   "metadata": {},
   "outputs": [],
   "source": [
    "# Bounds\n",
    "add_liquidity(Decimal(\"1.0001\"), 0, MAX_TICK, Decimal(1), Decimal(1))\n",
    "add_liquidity(Decimal(\"1.0001\"), MIN_TICK, 2, Decimal(1), Decimal(1))\n",
    "add_liquidity(Decimal(\"1.0001\"), 0, 2, Decimal(1), Decimal(1))\n",
    "add_liquidity(Decimal(\"0.99990000999900009999000099990000999900009999\"), -2, 0, Decimal(1), Decimal(1))\n",
    "None"
   ]
  },
  {
   "cell_type": "code",
   "execution_count": null,
   "metadata": {},
   "outputs": [],
   "source": [
    "# Amounts\n",
    "add_liquidity(Decimal(\"1.0001\"), 0, 2, Decimal(0), Decimal(0))\n",
    "None"
   ]
  },
  {
   "cell_type": "code",
   "execution_count": null,
   "metadata": {},
   "outputs": [],
   "source": [
    "# ADD LIQUIDITY\n",
    "\n",
    "# X always on the right side of price\n",
    "\n",
    "# Minimum values\n",
    "add_liquidity(Decimal(\"1.0001\"), 2, 3, Decimal(1), Decimal(1))\n",
    "add_liquidity(Decimal(\"1.0001\"), 1, 2, Decimal(1), Decimal(1))\n",
    "add_liquidity(Decimal(\"1.0001\"), 0, 2, Decimal(1), Decimal(1))\n",
    "add_liquidity(Decimal(\"1.0001\"), 0, 1, Decimal(1), Decimal(1))\n",
    "add_liquidity(Decimal(\"1.0001\"), -1, 0, Decimal(1), Decimal(1))\n",
    "None"
   ]
  },
  {
   "cell_type": "code",
   "execution_count": null,
   "metadata": {},
   "outputs": [],
   "source": [
    "# Large values\n",
    "add_liquidity(Decimal(\"1.0001\"), 100, 100_000, Decimal(1), Decimal(1))\n",
    "add_liquidity(Decimal(\"1.0001\"), 1, 100_000, Decimal(1), Decimal(1))\n",
    "add_liquidity(Decimal(\"2\"), -100_000, 100_000, Decimal(1), Decimal(1))\n",
    "add_liquidity(Decimal(\"1.0001\"), -100_000, 1, Decimal(1), Decimal(1))\n",
    "add_liquidity(Decimal(\"1.0001\"), 100_000, -100, Decimal(1), Decimal(1))\n",
    "add_liquidity(Decimal(\"2\"), -10000, 10000, Decimal(1), Decimal(1))\n",
    "None"
   ]
  },
  {
   "cell_type": "code",
   "execution_count": null,
   "metadata": {},
   "outputs": [],
   "source": [
    "# Symmetric values\n",
    "add_liquidity(Decimal(\"1\"), -100, 100, Decimal(1), Decimal(1))\n",
    "\n",
    "# Extremes\n",
    "add_liquidity(Decimal(\"1.0001\"), MIN_TICK, MAX_TICK, ATTO_DECIMAL, ATTO_DECIMAL)\n",
    "add_liquidity(Decimal(\"1.0001\"), 2, 3, MAX_SUPPLY, MAX_SUPPLY)\n",
    "add_liquidity(Decimal(\"1.0001\"), MAX_TICK - 1, MAX_TICK, MAX_SUPPLY, MAX_SUPPLY)\n",
    "\n",
    "print(MAX_LIQUIDITY_PER_TICK)\n",
    "\n",
    "add_liquidity(Decimal(\"1.0001\"), MIN_TICK, MAX_TICK, MAX_SUPPLY, MAX_SUPPLY)\n",
    "None"
   ]
  },
  {
   "cell_type": "code",
   "execution_count": null,
   "metadata": {},
   "outputs": [],
   "source": [
    "x1, y1 = calc_amounts_for_liquidity(MAX_LIQUIDITY_PER_TICK, Decimal(\"1\"), 0, MIN_TICK, MAX_TICK)\n",
    "print(x1, y1)\n",
    "x2, y2 = calc_amounts_for_liquidity(MAX_LIQUIDITY_PER_TICK, Decimal(\"1\"), 0, -1, 1)\n",
    "print(x2, y2)\n",
    "L, X, Y = add_liquidity(Decimal(\"1\"), -1, 1, Decimal(1631170321889000227409819145228876186538922663990), Decimal(1631170321889000227409819145228876186538922663990))"
   ]
  },
  {
   "cell_type": "code",
   "execution_count": null,
   "metadata": {},
   "outputs": [],
   "source": [
    "# testing small range and small amount\n",
    "\n",
    "add_liquidity(Decimal(\"1.0001\"), 0, 2, ATTO_DECIMAL, ATTO_DECIMAL)\n",
    "add_liquidity(Decimal(\"1.0001\"), 0, 2, ATTO_TWO_DECIMAL, ATTO_TWO_DECIMAL)\n",
    "add_liquidity(Decimal(\"1.0001\"), 0, 2, MAX_SUPPLY, MAX_SUPPLY)\n",
    "add_liquidity(Decimal(\"1.0001\"), MIN_TICK, MAX_TICK, ATTO_TWO_DECIMAL, ATTO_TWO_DECIMAL)\n",
    "add_liquidity(Decimal(\"1.0001\"), MIN_TICK, MAX_TICK, MAX_SUPPLY, MAX_SUPPLY)\n",
    "None"
   ]
  },
  {
   "cell_type": "code",
   "execution_count": null,
   "metadata": {},
   "outputs": [],
   "source": [
    "# Extreme Price\n",
    "add_liquidity(MAX_DECIMAL, 0, 2, 1, 1)\n",
    "add_liquidity(ATTO_DECIMAL, 0, 2, 1, 1)\n",
    "None"
   ]
  },
  {
   "cell_type": "code",
   "execution_count": null,
   "metadata": {},
   "outputs": [],
   "source": [
    "add_liquidity(ATTO_PRECISE_DECIMAL, 0, 2, Decimal(\"1\"), Decimal(\"1\"))\n",
    "None\n",
    "# MIN tick = -887272 => price for that tick is out of range of Decimal"
   ]
  },
  {
   "cell_type": "code",
   "execution_count": null,
   "metadata": {},
   "outputs": [],
   "source": [
    "ATTO_PD_SQRT = ATTO_PRECISE_DECIMAL.sqrt()\n",
    "max_x_scale = Decimal(1) / ATTO_PD_SQRT + 3 * ATTO_PRECISE_DECIMAL\n",
    "max_y_scale = MAX_PRECISE_DECIMAL.sqrt() + 3 * ATTO_PRECISE_DECIMAL\n",
    "logging.info(max_y_scale * ATTO_PRECISE_DECIMAL)\n",
    "logging.info(f\"max_x_scale * precise_atto < smaller decimal {max_x_scale * ATTO_PRECISE_DECIMAL < ATTO_DECIMAL}\")\n",
    "logging.info(f\"max_y_scale * precise_atto < smaller decimal {max_y_scale * ATTO_PRECISE_DECIMAL < ATTO_DECIMAL}\")"
   ]
  },
  {
   "cell_type": "markdown",
   "metadata": {},
   "source": [
    "### Max liquidity calculation"
   ]
  },
  {
   "cell_type": "code",
   "execution_count": null,
   "metadata": {},
   "outputs": [],
   "source": [
    "price_min = Decimal(\"0.00000000000000000005421214631044951\")\n",
    "price_max = Decimal(\"18446050711097703529.776342895380394515916013645110190198\")\n",
    "precise_decimal_max = Decimal(\"57896044618658097711785492504343953926634.992332820282019728792003956564819967\")\n",
    "\n",
    "L_max_1 = price_min*precise_decimal_max # Sell overflow limitation\n",
    "L_max_2 = precise_decimal_max/price_max # Buy overflow limitation\n",
    "\n",
    "max_liquidity = min(L_max_1, L_max_2) # MAX_LIQUIDITY\n",
    "max_liquidity"
   ]
  },
  {
   "cell_type": "markdown",
   "metadata": {},
   "source": [
    "### Max liquidity tests"
   ]
  },
  {
   "cell_type": "code",
   "execution_count": null,
   "metadata": {},
   "outputs": [],
   "source": [
    "liquidity, _, _ = add_liquidity(Decimal(\"1\"), 0, 1, Decimal(\"88400000000\"), Decimal(\"1000000000000\"))\n",
    "liquidity > max_liquidity/(MAX_TICK*2+1)"
   ]
  },
  {
   "cell_type": "code",
   "execution_count": null,
   "metadata": {},
   "outputs": [],
   "source": [
    "def number_of_ticks(spacing):\n",
    "    return 2 * (int(MAX_TICK / spacing)) + 1\n",
    "\n",
    "def max_liquidity_per_tick(max_liquidity, spacing):\n",
    "    return max_liquidity/number_of_ticks(spacing)\n",
    "    "
   ]
  },
  {
   "cell_type": "code",
   "execution_count": null,
   "metadata": {},
   "outputs": [],
   "source": [
    "spacings = [1,2, MAX_TICK-1, MAX_TICK]\n",
    "\n",
    "for spacing in spacings:\n",
    "    price_sqrt_1 = tick_to_price_sqrt(spacing)\n",
    "    price_sqrt_2 = tick_to_price_sqrt(0)\n",
    "\n",
    "    target_liquidity = max_liquidity_per_tick(max_liquidity, spacing)\n",
    "    x = (1/(price_sqrt_2) - 1/(price_sqrt_1)) * target_liquidity\n",
    "    print(spacing, int(x))"
   ]
  },
  {
   "cell_type": "code",
   "execution_count": null,
   "metadata": {},
   "outputs": [],
   "source": []
  }
 ],
 "metadata": {
  "kernelspec": {
   "display_name": "base",
   "language": "python",
   "name": "python3"
  },
  "language_info": {
   "codemirror_mode": {
    "name": "ipython",
    "version": 3
   },
   "file_extension": ".py",
   "mimetype": "text/x-python",
   "name": "python",
   "nbconvert_exporter": "python",
   "pygments_lexer": "ipython3",
   "version": "3.11.5"
  }
 },
 "nbformat": 4,
 "nbformat_minor": 2
}
