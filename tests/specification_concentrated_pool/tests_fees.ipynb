{
 "cells": [
  {
   "cell_type": "code",
   "execution_count": null,
   "metadata": {},
   "outputs": [],
   "source": [
    "from add_liquidity import *\n",
    "from constants import *\n",
    "\n",
    "from swap import *\n",
    "from pool import *\n",
    "from claim_fee import claim_fee_success, claim_fee_default_scenario_buy, claim_fee_default_scenario_sell\n",
    "\n",
    "logging.config.fileConfig('logging.ini')"
   ]
  },
  {
   "cell_type": "code",
   "execution_count": null,
   "metadata": {},
   "outputs": [],
   "source": [
    "MAX_TICK = 887272\n",
    "MIN_TICK = -MAX_TICK\n",
    "\n",
    "TICK_LEFT_BOUND = -10000;\n",
    "TICK_LEFT_MIDDLE_BOUND = 5000;\n",
    "TICK_RIGHT_MIDDLE_BOUND = 10000;\n",
    "TICK_RIGHT_BOUND = 15000;\n",
    "\n",
    "PRICE_LEFT_BOUND_SQRT = tick_to_price_sqrt(TICK_LEFT_BOUND)  # 0.3678978\n",
    "PRICE_BETWEEN_LEFT_BOUNDS_SQRT = Decimal(\"1.0000499987500624960940234169937986972154989506568647884368700658\") # sqrt(1.0001)\n",
    "PRICE_LEFT_MIDDLE_BOUND_SQRT = tick_to_price_sqrt(TICK_LEFT_MIDDLE_BOUND) # 1.6486800\n",
    "PRICE_BETWEEN_MIDDLE_BOUNDS_SQRT = Decimal(\"1.4142135623730950488016887242096980785696718753769480731766797379\") #  sqrt(2)\n",
    "PRICE_RIGHT_MIDDLE_BOUND_SQRT = tick_to_price_sqrt(TICK_RIGHT_MIDDLE_BOUND) # 2.7181459\n",
    "PRICE_BETWEEN_RIGHT_BOUNDS_SQRT = Decimal(\"1.7320508075688772935274463415058723669428052538103806280558069794\") # sqrt(3)\n",
    "PRICE_RIGHT_BOUND_SQRT = tick_to_price_sqrt(TICK_RIGHT_BOUND) # sqrt(4.4813529) = 2.1169\n",
    "\n",
    "FEE_RATE = Decimal(\"0.1\") # can be the same for input, output and protocol since they behave differently"
   ]
  },
  {
   "cell_type": "code",
   "execution_count": null,
   "metadata": {},
   "outputs": [],
   "source": [
    "ONE_LP = [(TICK_LEFT_BOUND, TICK_RIGHT_BOUND, Decimal(10), Decimal(10))]"
   ]
  },
  {
   "cell_type": "code",
   "execution_count": null,
   "metadata": {},
   "outputs": [],
   "source": [
    "# add, remove (no fees claimable)\n",
    "claim_fee_success(PRICE_BETWEEN_MIDDLE_BOUNDS_SQRT, ONE_LP, remove_ids_after=[0], fee_input_rate=FEE_RATE, fee_protocol_rate=FEE_RATE)\n",
    "None"
   ]
  },
  {
   "cell_type": "code",
   "execution_count": null,
   "metadata": {},
   "outputs": [],
   "source": [
    "# add, swap, claim (fees claimable)\n",
    "claim_fee_success(PRICE_BETWEEN_MIDDLE_BOUNDS_SQRT, ONE_LP, [(Decimal(1), False)], claim_ids=[0], fee_input_rate=FEE_RATE, fee_protocol_rate=FEE_RATE)\n",
    "claim_fee_success(PRICE_BETWEEN_MIDDLE_BOUNDS_SQRT, ONE_LP, [(Decimal(1), True)], claim_ids=[0], fee_input_rate=FEE_RATE, fee_protocol_rate=FEE_RATE)\n",
    "None"
   ]
  },
  {
   "cell_type": "code",
   "execution_count": null,
   "metadata": {},
   "outputs": [],
   "source": [
    "# add, swap, remove (fees claimable)\n",
    "claim_fee_success(PRICE_BETWEEN_MIDDLE_BOUNDS_SQRT, ONE_LP, [(Decimal(1), False)], remove_ids_after=[0], fee_input_rate=FEE_RATE, fee_protocol_rate=FEE_RATE)\n",
    "claim_fee_success(PRICE_BETWEEN_MIDDLE_BOUNDS_SQRT, ONE_LP, [(Decimal(1), True)], remove_ids_after=[0], fee_input_rate=FEE_RATE, fee_protocol_rate=FEE_RATE)\n",
    "None"
   ]
  },
  {
   "cell_type": "markdown",
   "metadata": {},
   "source": [
    "### Test initialization of fees when no active tick"
   ]
  },
  {
   "cell_type": "code",
   "execution_count": null,
   "metadata": {},
   "outputs": [],
   "source": [
    "ONE_LP_LEFT = [(-10000, -9000, Decimal(10), Decimal(10))]\n",
    "ONE_LP_RIGHT = [(9000, 10000, Decimal(10), Decimal(10))]\n",
    "\n",
    "ONE_LP_LEFT_EXTREME = [(MIN_TICK, int(MIN_TICK/10), Decimal(1000000), Decimal(1000000))]\n",
    "ONE_LP_RIGHT_EXTREME = [(int(MAX_TICK/10), MAX_TICK, Decimal(1000000), Decimal(1000000))]"
   ]
  },
  {
   "cell_type": "code",
   "execution_count": null,
   "metadata": {},
   "outputs": [],
   "source": [
    "# test_add_swap_remove_add_swap_remove_position_center\n",
    "claim_fee_success(Decimal(1), ONE_LP, [(Decimal(1), False), (Decimal(1), True)], remove_ids_after=[0], fee_input_rate=FEE_RATE, fee_protocol_rate=FEE_RATE)\n",
    "claim_fee_success(Decimal(\"0.997851978453476316643507499674635397\"), ONE_LP, [], remove_ids_after=[0], fee_input_rate=FEE_RATE, fee_protocol_rate=FEE_RATE)\n",
    "None"
   ]
  },
  {
   "cell_type": "code",
   "execution_count": null,
   "metadata": {},
   "outputs": [],
   "source": [
    "# test_add_swap_remove_add_swap_remove_position_left\n",
    "claim_fee_success(Decimal(1), ONE_LP, [(Decimal(1), False), (Decimal(1), True)], remove_ids_after=[0], fee_input_rate=FEE_RATE, fee_protocol_rate=FEE_RATE)\n",
    "claim_fee_success(Decimal(\"0.997851978453476316643507499674635397\"), ONE_LP_LEFT, [], remove_ids_after=[0], fee_input_rate=FEE_RATE, fee_protocol_rate=FEE_RATE)\n",
    "None"
   ]
  },
  {
   "cell_type": "code",
   "execution_count": null,
   "metadata": {},
   "outputs": [],
   "source": [
    "# test_add_swap_remove_add_swap_remove_position_right\n",
    "claim_fee_success(Decimal(1), ONE_LP, [(Decimal(1), False), (Decimal(1), True)], remove_ids_after=[0], fee_input_rate=FEE_RATE, fee_protocol_rate=FEE_RATE)\n",
    "claim_fee_success(Decimal(\"0.997851978453476316643507499674635397\"), ONE_LP_RIGHT, [], remove_ids_after=[0], fee_input_rate=FEE_RATE, fee_protocol_rate=FEE_RATE)\n",
    "None"
   ]
  },
  {
   "cell_type": "markdown",
   "metadata": {},
   "source": [
    "Now testing price=1, positions at extremes"
   ]
  },
  {
   "cell_type": "code",
   "execution_count": null,
   "metadata": {},
   "outputs": [],
   "source": [
    "# test_add_swap_remove_add_swap_remove_position_left_extreme\n",
    "claim_fee_success(Decimal(1), ONE_LP, [(Decimal(1), False), (Decimal(1), True)], remove_ids_after=[0], fee_input_rate=FEE_RATE, fee_protocol_rate=FEE_RATE)\n",
    "claim_fee_success(Decimal(\"0.997851978453476316643507499674635397\"), ONE_LP_LEFT_EXTREME, [], remove_ids_after=[0], fee_input_rate=FEE_RATE, fee_protocol_rate=FEE_RATE)\n",
    "None"
   ]
  },
  {
   "cell_type": "code",
   "execution_count": null,
   "metadata": {},
   "outputs": [],
   "source": [
    "# test_add_swap_remove_add_swap_remove_position_right_extreme\n",
    "claim_fee_success(Decimal(1), ONE_LP, [(Decimal(1), False), (Decimal(1), True)], remove_ids_after=[0], fee_input_rate=FEE_RATE, fee_protocol_rate=FEE_RATE)\n",
    "claim_fee_success(Decimal(\"0.997851978453476316643507499674635397\"), ONE_LP_RIGHT_EXTREME, [], remove_ids_after=[0], fee_input_rate=FEE_RATE, fee_protocol_rate=FEE_RATE)\n",
    "None"
   ]
  },
  {
   "cell_type": "code",
   "execution_count": null,
   "metadata": {},
   "outputs": [],
   "source": [
    "# test_add_swap_remove_add_swap_remove_left_extreme_price_extreme_left\n",
    "\n",
    "price_sqrt = tick_to_price_sqrt(MIN_TICK)\n",
    "buy_input = 1\n",
    "sell_input = 1_000_000\n",
    "\n",
    "price_sqrt, _, _, _, _, = claim_fee_success(price_sqrt, ONE_LP_LEFT_EXTREME, [(buy_input, False), (sell_input, True)], remove_ids_after=[0], fee_input_rate=FEE_RATE, fee_protocol_rate=FEE_RATE)\n",
    "claim_fee_success(price_sqrt, ONE_LP_LEFT_EXTREME, [], remove_ids_after=[0], fee_input_rate=FEE_RATE, fee_protocol_rate=FEE_RATE)\n",
    "None"
   ]
  },
  {
   "cell_type": "code",
   "execution_count": null,
   "metadata": {},
   "outputs": [],
   "source": [
    "# test_add_swap_remove_add_swap_remove_right_extreme_price_extreme_right\n",
    "\n",
    "price_sqrt = tick_to_price_sqrt(MAX_TICK)\n",
    "sell_input = 1\n",
    "buy_input = 1_000_000\n",
    "\n",
    "price_sqrt, _, _, _, _, = claim_fee_success(price_sqrt, ONE_LP_RIGHT_EXTREME, [(sell_input, True), (buy_input, False)], remove_ids_after=[0], fee_input_rate=FEE_RATE, fee_protocol_rate=FEE_RATE)\n",
    "claim_fee_success(price_sqrt, ONE_LP_RIGHT_EXTREME, [], remove_ids_after=[0], fee_input_rate=FEE_RATE, fee_protocol_rate=FEE_RATE)\n",
    "None"
   ]
  },
  {
   "cell_type": "markdown",
   "metadata": {},
   "source": [
    "Positions at extremes, price middle of position"
   ]
  },
  {
   "cell_type": "code",
   "execution_count": null,
   "metadata": {},
   "outputs": [],
   "source": [
    "print(tick_to_price_sqrt(MIN_TICK))\n",
    "print(tick_to_price_sqrt(int(MIN_TICK/5)))\n",
    "print(tick_to_price_sqrt(int(MIN_TICK/10)))"
   ]
  },
  {
   "cell_type": "code",
   "execution_count": null,
   "metadata": {},
   "outputs": [],
   "source": [
    "# test_add_swap_remove_add_swap_remove_left_extreme_price_left_middle\n",
    "\n",
    "price_sqrt = tick_to_price_sqrt(int(MIN_TICK/5))\n",
    "buy_input = 1\n",
    "sell_input = 1000000\n",
    "\n",
    "claim_fee_success(price_sqrt, ONE_LP_LEFT_EXTREME, [(buy_input, False), (sell_input, True)], remove_ids_after=[0], fee_input_rate=FEE_RATE, fee_protocol_rate=FEE_RATE)\n",
    "claim_fee_success(Decimal(\"0.000153929540288180022113948701822239\"), ONE_LP_LEFT_EXTREME, [], remove_ids_after=[0], fee_input_rate=FEE_RATE, fee_protocol_rate=FEE_RATE)\n",
    "None"
   ]
  },
  {
   "cell_type": "code",
   "execution_count": null,
   "metadata": {},
   "outputs": [],
   "source": [
    "print(tick_to_price_sqrt(MAX_TICK))\n",
    "print(tick_to_price_sqrt(int(MAX_TICK/5)))\n",
    "print(tick_to_price_sqrt(int(MAX_TICK/10)))"
   ]
  },
  {
   "cell_type": "code",
   "execution_count": null,
   "metadata": {},
   "outputs": [],
   "source": [
    "# test_add_swap_remove_add_swap_remove_right_extreme_price_right_middle\n",
    "\n",
    "price_sqrt = tick_to_price_sqrt(int(MAX_TICK/5))\n",
    "buy_input = 1000000\n",
    "sell_input = 1\n",
    "\n",
    "claim_fee_success(price_sqrt, ONE_LP_RIGHT_EXTREME, [(buy_input, False), (sell_input, True)], remove_ids_after=[0], fee_input_rate=FEE_RATE, fee_protocol_rate=FEE_RATE)\n",
    "claim_fee_success(Decimal(\"155.849774066214506298348287972778718334\"), ONE_LP_RIGHT_EXTREME, [], remove_ids_after=[0], fee_input_rate=FEE_RATE, fee_protocol_rate=FEE_RATE)\n",
    "None"
   ]
  },
  {
   "cell_type": "markdown",
   "metadata": {},
   "source": [
    "### Positions at extremes, inner bound"
   ]
  },
  {
   "cell_type": "code",
   "execution_count": null,
   "metadata": {},
   "outputs": [],
   "source": [
    "MIN_TICK/5, ONE_LP_LEFT_EXTREME[0][1]"
   ]
  },
  {
   "cell_type": "code",
   "execution_count": null,
   "metadata": {},
   "outputs": [],
   "source": [
    "tick_to_price_sqrt(int(ONE_LP_LEFT_EXTREME[0][1])), tick_to_price_sqrt(int(MIN_TICK/10))"
   ]
  },
  {
   "cell_type": "code",
   "execution_count": null,
   "metadata": {},
   "outputs": [],
   "source": [
    "price_sqrt"
   ]
  },
  {
   "cell_type": "code",
   "execution_count": null,
   "metadata": {},
   "outputs": [],
   "source": [
    "# test_add_swap_remove_add_swap_remove_left_extreme_price_left_inner_bound\n",
    "\n",
    "price_sqrt = tick_to_price_sqrt(int(ONE_LP_LEFT_EXTREME[0][1]))\n",
    "sell_input = 10_000_000\n",
    "buy_input = 10_000\n",
    "\n",
    "price_sqrt, _, _, _, _, = claim_fee_success(price_sqrt, ONE_LP_LEFT_EXTREME, [(sell_input, True), (buy_input, False)], remove_ids_after=[0], fee_input_rate=FEE_RATE, fee_protocol_rate=FEE_RATE)\n",
    "claim_fee_success(price_sqrt, ONE_LP_LEFT_EXTREME, [], remove_ids_after=[0], fee_input_rate=FEE_RATE, fee_protocol_rate=FEE_RATE)\n",
    "None"
   ]
  },
  {
   "cell_type": "code",
   "execution_count": null,
   "metadata": {},
   "outputs": [],
   "source": [
    "# test_add_swap_remove_add_swap_remove_right_extreme_price_right_inner_bound\n",
    "\n",
    "price_sqrt = tick_to_price_sqrt(int(ONE_LP_RIGHT_EXTREME[0][0]))\n",
    "buy_input = 10_000_000\n",
    "sell_input = 10_000\n",
    "\n",
    "price_sqrt, _, _, _, _, = claim_fee_success(price_sqrt, ONE_LP_RIGHT_EXTREME, [(buy_input, False), (sell_input, True)], remove_ids_after=[0], fee_input_rate=FEE_RATE, fee_protocol_rate=FEE_RATE)\n",
    "claim_fee_success(price_sqrt, ONE_LP_RIGHT_EXTREME, [], remove_ids_after=[0], fee_input_rate=FEE_RATE, fee_protocol_rate=FEE_RATE)\n",
    "None"
   ]
  },
  {
   "cell_type": "code",
   "execution_count": null,
   "metadata": {},
   "outputs": [],
   "source": [
    "# test_anomaly_1\n",
    "\n",
    "price_sqrt = tick_to_price_sqrt(int(MAX_TICK/5))\n",
    "buy_input = 1_000_000\n",
    "sell_input = 1\n",
    "\n",
    "price_sqrt, _, _, _, _, = claim_fee_success(price_sqrt, ONE_LP, [(buy_input, False), (sell_input, True)], remove_ids_after=[0], fee_input_rate=FEE_RATE, fee_protocol_rate=FEE_RATE)\n",
    "claim_fee_success(price_sqrt, ONE_LP_RIGHT_EXTREME, [], remove_ids_after=[0], fee_input_rate=FEE_RATE, fee_protocol_rate=FEE_RATE)\n",
    "None"
   ]
  },
  {
   "cell_type": "code",
   "execution_count": null,
   "metadata": {},
   "outputs": [],
   "source": [
    "# test_anomaly_2\n",
    "\n",
    "price_sqrt = tick_to_price_sqrt(ONE_LP_RIGHT_EXTREME[0][0])\n",
    "buy_input = 1\n",
    "sell_input = 1\n",
    "\n",
    "price_sqrt, _, _, _, _, = claim_fee_success(price_sqrt, ONE_LP, [(buy_input, False), (sell_input, True)], remove_ids_after=[0], fee_input_rate=FEE_RATE, fee_protocol_rate=FEE_RATE)\n",
    "claim_fee_success(price_sqrt, ONE_LP_RIGHT_EXTREME, [], remove_ids_after=[0], fee_input_rate=FEE_RATE, fee_protocol_rate=FEE_RATE)\n",
    "None"
   ]
  },
  {
   "cell_type": "code",
   "execution_count": null,
   "metadata": {},
   "outputs": [],
   "source": [
    "# test_anomaly_3\n",
    "\n",
    "price_sqrt = tick_to_price_sqrt(MAX_TICK)\n",
    "buy_input = 1\n",
    "sell_input = 1\n",
    "\n",
    "price_sqrt, _, _, _, _, = claim_fee_success(price_sqrt, ONE_LP, [(buy_input, False), (sell_input, True)], remove_ids_after=[0], fee_input_rate=FEE_RATE, fee_protocol_rate=FEE_RATE)\n",
    "claim_fee_success(price_sqrt, ONE_LP_RIGHT_EXTREME, [], remove_ids_after=[0], fee_input_rate=FEE_RATE, fee_protocol_rate=FEE_RATE)\n",
    "None"
   ]
  },
  {
   "cell_type": "code",
   "execution_count": null,
   "metadata": {},
   "outputs": [],
   "source": [
    "# add, swap, claim, remove (fees claimable)\n",
    "claim_fee_success(PRICE_BETWEEN_MIDDLE_BOUNDS_SQRT, ONE_LP, [(Decimal(1), False)], claim_ids=[0], remove_ids_after=[0], fee_input_rate=FEE_RATE, fee_protocol_rate=FEE_RATE)\n",
    "claim_fee_success(PRICE_BETWEEN_MIDDLE_BOUNDS_SQRT, ONE_LP, [(Decimal(1), True)], claim_ids=[0], remove_ids_after=[0], fee_input_rate=FEE_RATE, fee_protocol_rate=FEE_RATE)\n",
    "\n",
    "None"
   ]
  },
  {
   "cell_type": "code",
   "execution_count": null,
   "metadata": {},
   "outputs": [],
   "source": [
    "# add, swap, claim, swap, remove (fees claimable)\n",
    "claim_fee_success(PRICE_BETWEEN_MIDDLE_BOUNDS_SQRT, ONE_LP, [(Decimal(1), False)], claim_ids=[0], trades_after=[(Decimal(1), True)], remove_ids_after=[0], fee_input_rate=FEE_RATE, fee_protocol_rate=FEE_RATE)\n",
    "claim_fee_success(PRICE_BETWEEN_MIDDLE_BOUNDS_SQRT, ONE_LP, [(Decimal(1), True)], claim_ids=[0], trades_after=[(Decimal(1), False)], remove_ids_after=[0], fee_input_rate=FEE_RATE, fee_protocol_rate=FEE_RATE)\n",
    "None"
   ]
  },
  {
   "cell_type": "code",
   "execution_count": null,
   "metadata": {},
   "outputs": [],
   "source": [
    "# protocol fees\n",
    "# add, swap, claim (claim output should be lower than without protocol fees)\n",
    "claim_fee_success(PRICE_BETWEEN_MIDDLE_BOUNDS_SQRT, ONE_LP, [(Decimal(1), False)], claim_ids=[0], fee_input_rate=FEE_RATE, fee_protocol_rate=FEE_RATE)\n",
    "claim_fee_success(PRICE_BETWEEN_MIDDLE_BOUNDS_SQRT, ONE_LP, [(Decimal(1), True)], claim_ids=[0], fee_input_rate=FEE_RATE, fee_protocol_rate=FEE_RATE)\n",
    "None"
   ]
  },
  {
   "cell_type": "code",
   "execution_count": null,
   "metadata": {},
   "outputs": [],
   "source": [
    "TWO_LP_SEPARATE = [\n",
    "    (TICK_LEFT_BOUND, TICK_LEFT_MIDDLE_BOUND, Decimal(10), Decimal(10)),\n",
    "    (TICK_RIGHT_MIDDLE_BOUND, TICK_RIGHT_BOUND, Decimal(10), Decimal(10))\n",
    "]\n",
    "PRICE_LEFT_BOUND_SQRT, PRICE_LEFT_MIDDLE_BOUND_SQRT, PRICE_RIGHT_MIDDLE_BOUND_SQRT, PRICE_RIGHT_BOUND_SQRT"
   ]
  },
  {
   "cell_type": "code",
   "execution_count": null,
   "metadata": {},
   "outputs": [],
   "source": [
    "# two lp separate - buy\n",
    "claim_fee_default_scenario_buy(PRICE_BETWEEN_LEFT_BOUNDS_SQRT, TWO_LP_SEPARATE, FEE_RATE, amount=Decimal(9))"
   ]
  },
  {
   "cell_type": "code",
   "execution_count": null,
   "metadata": {},
   "outputs": [],
   "source": [
    "# two lp separate - sell\n",
    "claim_fee_default_scenario_sell(PRICE_BETWEEN_RIGHT_BOUNDS_SQRT, TWO_LP_SEPARATE, FEE_RATE, amount=Decimal(4))\n",
    "None"
   ]
  },
  {
   "cell_type": "code",
   "execution_count": null,
   "metadata": {},
   "outputs": [],
   "source": [
    "TWO_LP_DIRECT_NEIGHBORS = [\n",
    "    (TICK_LEFT_BOUND, TICK_LEFT_MIDDLE_BOUND, Decimal(10), Decimal(10)),\n",
    "    (TICK_LEFT_MIDDLE_BOUND, TICK_RIGHT_BOUND, Decimal(10), Decimal(10))\n",
    "]\n",
    "PRICE_LEFT_BOUND_SQRT, PRICE_LEFT_MIDDLE_BOUND_SQRT, PRICE_LEFT_MIDDLE_BOUND_SQRT, PRICE_RIGHT_BOUND_SQRT"
   ]
  },
  {
   "cell_type": "code",
   "execution_count": null,
   "metadata": {},
   "outputs": [],
   "source": [
    "1.0001**-10000"
   ]
  },
  {
   "cell_type": "code",
   "execution_count": null,
   "metadata": {},
   "outputs": [],
   "source": [
    "# two lp direct neighbors - buy\n",
    "claim_fee_default_scenario_buy(PRICE_BETWEEN_LEFT_BOUNDS_SQRT, TWO_LP_DIRECT_NEIGHBORS, FEE_RATE, amount=Decimal(9))\n",
    "None"
   ]
  },
  {
   "cell_type": "code",
   "execution_count": null,
   "metadata": {},
   "outputs": [],
   "source": [
    "# two lp direct neighbors - sell\n",
    "claim_fee_default_scenario_sell(PRICE_BETWEEN_RIGHT_BOUNDS_SQRT, TWO_LP_DIRECT_NEIGHBORS, FEE_RATE, amount=Decimal(6))\n",
    "None"
   ]
  },
  {
   "cell_type": "code",
   "execution_count": null,
   "metadata": {},
   "outputs": [],
   "source": [
    "TWO_LP_OVERLAPPING_EXACT_LEFT = [\n",
    "    (TICK_LEFT_BOUND, TICK_RIGHT_BOUND, Decimal(10), Decimal(10)),\n",
    "    (TICK_LEFT_BOUND, TICK_LEFT_MIDDLE_BOUND, Decimal(10), Decimal(10))\n",
    "]\n",
    "\n",
    "PRICE_LEFT_BOUND_SQRT, PRICE_LEFT_MIDDLE_BOUND_SQRT, PRICE_RIGHT_BOUND_SQRT"
   ]
  },
  {
   "cell_type": "code",
   "execution_count": null,
   "metadata": {},
   "outputs": [],
   "source": [
    "# two lp overlapping exact left - buy\n",
    "claim_fee_default_scenario_buy(PRICE_BETWEEN_LEFT_BOUNDS_SQRT, TWO_LP_OVERLAPPING_EXACT_LEFT, FEE_RATE, amount=Decimal(17))\n",
    "None"
   ]
  },
  {
   "cell_type": "code",
   "execution_count": null,
   "metadata": {},
   "outputs": [],
   "source": [
    "# two lp overlapping exact left - sell\n",
    "claim_fee_default_scenario_sell(PRICE_BETWEEN_MIDDLE_BOUNDS_SQRT, TWO_LP_OVERLAPPING_EXACT_LEFT, FEE_RATE, amount=Decimal(20))\n",
    "None"
   ]
  },
  {
   "cell_type": "code",
   "execution_count": null,
   "metadata": {},
   "outputs": [],
   "source": [
    "TWO_LP_OVERLAPPING_INSIDE = [\n",
    "    (TICK_LEFT_BOUND, TICK_RIGHT_BOUND, Decimal(10), Decimal(10)),\n",
    "    (TICK_LEFT_MIDDLE_BOUND, TICK_RIGHT_MIDDLE_BOUND, Decimal(10), Decimal(10))\n",
    "]\n",
    "\n",
    "PRICE_LEFT_BOUND_SQRT, PRICE_LEFT_MIDDLE_BOUND_SQRT, PRICE_RIGHT_MIDDLE_BOUND_SQRT, PRICE_RIGHT_BOUND_SQRT"
   ]
  },
  {
   "cell_type": "code",
   "execution_count": null,
   "metadata": {},
   "outputs": [],
   "source": [
    "# two lp overlapping inside - buy\n",
    "claim_fee_default_scenario_buy(PRICE_BETWEEN_LEFT_BOUNDS_SQRT, TWO_LP_OVERLAPPING_INSIDE, FEE_RATE, amount=Decimal(38))\n",
    "None"
   ]
  },
  {
   "cell_type": "code",
   "execution_count": null,
   "metadata": {},
   "outputs": [],
   "source": [
    "# two lp overlapping inside - sell\n",
    "claim_fee_default_scenario_sell(PRICE_BETWEEN_RIGHT_BOUNDS_SQRT, TWO_LP_OVERLAPPING_INSIDE, FEE_RATE, amount=Decimal(23))\n",
    "None"
   ]
  },
  {
   "cell_type": "code",
   "execution_count": null,
   "metadata": {},
   "outputs": [],
   "source": [
    "# two lp overlapping inside - buy\n",
    "claim_fee_default_scenario_buy(Decimal(\"0.0001\"), TWO_LP_OVERLAPPING_INSIDE, FEE_RATE, amount=Decimal(1000))\n",
    "None"
   ]
  },
  {
   "cell_type": "code",
   "execution_count": null,
   "metadata": {},
   "outputs": [],
   "source": [
    "TWO_LP_OVERLAPPING_EXACT_RIGHT = [\n",
    "    (TICK_LEFT_BOUND, TICK_RIGHT_BOUND, Decimal(10), Decimal(10)),\n",
    "    (TICK_RIGHT_MIDDLE_BOUND, TICK_RIGHT_BOUND, Decimal(10), Decimal(10))\n",
    "]\n",
    "PRICE_LEFT_BOUND_SQRT, PRICE_RIGHT_MIDDLE_BOUND_SQRT, PRICE_RIGHT_BOUND_SQRT"
   ]
  },
  {
   "cell_type": "code",
   "execution_count": null,
   "metadata": {},
   "outputs": [],
   "source": [
    "# two lp overlapping exact right - buy\n",
    "claim_fee_default_scenario_buy(PRICE_BETWEEN_MIDDLE_BOUNDS_SQRT, TWO_LP_OVERLAPPING_EXACT_RIGHT, FEE_RATE, amount=Decimal(15))\n",
    "None"
   ]
  },
  {
   "cell_type": "code",
   "execution_count": null,
   "metadata": {},
   "outputs": [],
   "source": [
    "# two lp overlapping exact right - sell\n",
    "claim_fee_default_scenario_sell(PRICE_BETWEEN_RIGHT_BOUNDS_SQRT, TWO_LP_OVERLAPPING_EXACT_RIGHT, FEE_RATE, amount=Decimal(6))\n",
    "None"
   ]
  },
  {
   "cell_type": "code",
   "execution_count": null,
   "metadata": {},
   "outputs": [],
   "source": [
    "ONE_LP_2 = [(-500, 500, Decimal(10), Decimal(10))]\n",
    "claim_fee_success(Decimal(\"1.002226924532046054069158573795057856\"), ONE_LP_2, [(Decimal(1_000_000), True)], claim_ids=[0], fee_input_rate=FEE_RATE, fee_protocol_rate=FEE_RATE)"
   ]
  },
  {
   "cell_type": "code",
   "execution_count": null,
   "metadata": {},
   "outputs": [],
   "source": []
  },
  {
   "cell_type": "code",
   "execution_count": null,
   "metadata": {},
   "outputs": [],
   "source": []
  }
 ],
 "metadata": {
  "kernelspec": {
   "display_name": "base",
   "language": "python",
   "name": "python3"
  },
  "language_info": {
   "codemirror_mode": {
    "name": "ipython",
    "version": 3
   },
   "file_extension": ".py",
   "mimetype": "text/x-python",
   "name": "python",
   "nbconvert_exporter": "python",
   "pygments_lexer": "ipython3",
   "version": "3.11.7"
  }
 },
 "nbformat": 4,
 "nbformat_minor": 2
}
