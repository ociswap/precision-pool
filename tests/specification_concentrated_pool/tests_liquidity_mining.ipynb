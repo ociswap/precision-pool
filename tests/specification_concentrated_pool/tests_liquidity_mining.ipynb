{
 "cells": [
  {
   "cell_type": "code",
   "execution_count": null,
   "metadata": {},
   "outputs": [],
   "source": [
    "from add_liquidity import *\n",
    "from constants import *\n",
    "\n",
    "from swap import *\n",
    "from pool import *\n",
    "\n",
    "logging.config.fileConfig('logging.ini')"
   ]
  },
  {
   "cell_type": "code",
   "execution_count": null,
   "metadata": {},
   "outputs": [],
   "source": [
    "TICK_LEFT_BOUND = -10000\n",
    "TICK_LEFT_MIDDLE_BOUND = 5000\n",
    "TICK_RIGHT_MIDDLE_BOUND = 10000\n",
    "TICK_RIGHT_BOUND = 15000\n",
    "\n",
    "PRICE_LEFT_BOUND = tick_to_price(TICK_LEFT_BOUND)                 # price ~ 0.3678, sqrt(1.0001^-10000) = 0.6065458221578347578405131291196676381010272902296962274902331629\n",
    "PRICE_LEFT_MIDDLE_BOUND = tick_to_price(TICK_LEFT_MIDDLE_BOUND)   # price ~ 1.6486, sqrt(1.0001^5000) = 1.2840093675402745166797149588385944304302866383038001267442213538\n",
    "PRICE_RIGHT_MIDDLE_BOUND = tick_to_price(TICK_RIGHT_MIDDLE_BOUND) # price ~ 2.7181, sqrt(1.0001^10000) = 1.648680055931175769628200045451048976844011249465030400193593239\n",
    "PRICE_RIGHT_BOUND = tick_to_price(TICK_RIGHT_BOUND)               # price ~ 4.4813, sqrt(1.0001^15000) = 2.1169206358924534159037443803110466073595471619988425247370153363\n",
    "\n",
    "PRICE_LESSER_LEFT_BOUND= Decimal(\"0.3\")\n",
    "PRICE_BETWEEN_LEFT_BOUNDS= Decimal(\"1.0001\")\n",
    "PRICE_BETWEEN_MIDDLE_BOUNDS= Decimal(2)\n",
    "PRICE_BETWEEN_RIGHT_BOUNDS= Decimal(3)\n",
    "PRICE_GREATER_RIGHT_BOUND= Decimal(5)\n",
    "\n",
    "\n",
    "ONE_LP = [(TICK_LEFT_BOUND, TICK_RIGHT_BOUND, Decimal(10), Decimal(10))]"
   ]
  },
  {
   "cell_type": "code",
   "execution_count": null,
   "metadata": {},
   "outputs": [],
   "source": [
    "POSITIONS_PPP = [\n",
    "    (-1500, -500, Decimal(10), Decimal(10),),\n",
    "    (-500, 500, Decimal(10), Decimal(10)),\n",
    "    (500, 1500, Decimal(10), Decimal(10)),\n",
    "]"
   ]
  },
  {
   "cell_type": "code",
   "execution_count": null,
   "metadata": {},
   "outputs": [],
   "source": [
    "tick_to_price_sqrt(-1500), tick_to_price_sqrt(-500), tick_to_price_sqrt(500), tick_to_price_sqrt(1500)"
   ]
  },
  {
   "cell_type": "code",
   "execution_count": null,
   "metadata": {},
   "outputs": [],
   "source": [
    "# precise till tick - sell sell buy 3\n",
    "trades = [(Decimal(20), False),\n",
    "          (Decimal(20), True),\n",
    "          (Decimal(20), True),\n",
    "          (Decimal(20), False),]\n",
    "\n",
    "swap_success(tick_to_price(0), POSITIONS_PPP, trades)"
   ]
  },
  {
   "cell_type": "code",
   "execution_count": null,
   "metadata": {},
   "outputs": [],
   "source": [
    "# test_seconds_in_position_overlapping\n",
    "\n",
    "OVERLAPPING_LP = [(-1500, -500, Decimal(10), Decimal(10)),\n",
    "          (-500, 500, Decimal(10), Decimal(10)),\n",
    "          (500, 1500, Decimal(10), Decimal(10)),\n",
    "          (-1000, 1000, Decimal(10), Decimal(10)),\n",
    "          ]\n",
    "\n",
    "ticks = [-1500, -1000, -500, 500, 1000, 1500]\n",
    "for tick in ticks:\n",
    "    print(tick_to_price_sqrt(tick))\n",
    "\n",
    "trades = [(Decimal(20), False),\n",
    "          (Decimal(10), False),\n",
    "          (Decimal(10), False),\n",
    "          (Decimal(50), True),\n",
    "          (Decimal(20), True),\n",
    "          (Decimal(50), False),]\n",
    "\n",
    "swap_success(tick_to_price(0), OVERLAPPING_LP, trades)"
   ]
  },
  {
   "cell_type": "code",
   "execution_count": null,
   "metadata": {},
   "outputs": [],
   "source": [
    "\n"
   ]
  },
  {
   "cell_type": "code",
   "execution_count": null,
   "metadata": {},
   "outputs": [],
   "source": []
  }
 ],
 "metadata": {
  "kernelspec": {
   "display_name": "base",
   "language": "python",
   "name": "python3"
  },
  "language_info": {
   "codemirror_mode": {
    "name": "ipython",
    "version": 3
   },
   "file_extension": ".py",
   "mimetype": "text/x-python",
   "name": "python",
   "nbconvert_exporter": "python",
   "pygments_lexer": "ipython3",
   "version": "3.11.5"
  }
 },
 "nbformat": 4,
 "nbformat_minor": 2
}
